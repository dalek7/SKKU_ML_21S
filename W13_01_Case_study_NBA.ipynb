{
 "cells": [
  {
   "cell_type": "markdown",
   "metadata": {},
   "source": [
    "# Predicting Sports Winners with Decision Trees"
   ]
  },
  {
   "cell_type": "markdown",
   "metadata": {},
   "source": [
    "NBA(National Basketball Association) 경기의 승패는 마지막 순간에 결정되어 승자 예측이 어려운 경우가 많다.\n",
    "\n",
    "2013-2014 년도 NBA 데이터셋과 decision trees 모델을 사용하여 게임의 승자를 예측해보자.\n",
    "\n",
    "NBA dataset \n",
    "```\n",
    "https://www.basketball-reference.com/leagues/NBA_2014_games-november.html\n",
    "```"
   ]
  },
  {
   "cell_type": "markdown",
   "metadata": {},
   "source": [
    "## Using pandas to load the dataset"
   ]
  },
  {
   "cell_type": "code",
   "execution_count": 5,
   "metadata": {},
   "outputs": [],
   "source": [
    "import numpy as np\n",
    "import pandas as pd\n",
    "import os \n",
    "import matplotlib.pyplot as plt\n",
    "from collections import defaultdict"
   ]
  },
  {
   "cell_type": "code",
   "execution_count": 6,
   "metadata": {},
   "outputs": [],
   "source": [
    "np.random.seed(1004)"
   ]
  },
  {
   "cell_type": "code",
   "execution_count": 7,
   "metadata": {},
   "outputs": [],
   "source": [
    "dataset = pd.read_csv('./dataset/NBA_14oct-jun.csv')"
   ]
  },
  {
   "cell_type": "code",
   "execution_count": 8,
   "metadata": {},
   "outputs": [],
   "source": [
    "dataset.rename(columns={'PTS': 'visitorPTS', 'PTS.1': 'homePTS', 'Unnamed: 6':'Score type', 'Unnamed: 7':'OT?','Attend.':'Attend', 'Visitor/Neutral':'Visitor team', 'Home/Neutral':'Home team'}, inplace=True)"
   ]
  },
  {
   "cell_type": "code",
   "execution_count": 9,
   "metadata": {},
   "outputs": [
    {
     "data": {
      "text/html": [
       "<div>\n",
       "<style scoped>\n",
       "    .dataframe tbody tr th:only-of-type {\n",
       "        vertical-align: middle;\n",
       "    }\n",
       "\n",
       "    .dataframe tbody tr th {\n",
       "        vertical-align: top;\n",
       "    }\n",
       "\n",
       "    .dataframe thead th {\n",
       "        text-align: right;\n",
       "    }\n",
       "</style>\n",
       "<table border=\"1\" class=\"dataframe\">\n",
       "  <thead>\n",
       "    <tr style=\"text-align: right;\">\n",
       "      <th></th>\n",
       "      <th>Visitor team</th>\n",
       "      <th>visitorPTS</th>\n",
       "      <th>Home team</th>\n",
       "      <th>homePTS</th>\n",
       "    </tr>\n",
       "  </thead>\n",
       "  <tbody>\n",
       "    <tr>\n",
       "      <th>0</th>\n",
       "      <td>Orlando Magic</td>\n",
       "      <td>84</td>\n",
       "      <td>New Orleans Pelicans</td>\n",
       "      <td>101</td>\n",
       "    </tr>\n",
       "    <tr>\n",
       "      <th>1</th>\n",
       "      <td>Dallas Mavericks</td>\n",
       "      <td>100</td>\n",
       "      <td>San Antonio Spurs</td>\n",
       "      <td>101</td>\n",
       "    </tr>\n",
       "    <tr>\n",
       "      <th>2</th>\n",
       "      <td>Houston Rockets</td>\n",
       "      <td>108</td>\n",
       "      <td>Los Angeles Lakers</td>\n",
       "      <td>90</td>\n",
       "    </tr>\n",
       "  </tbody>\n",
       "</table>\n",
       "</div>"
      ],
      "text/plain": [
       "       Visitor team  visitorPTS             Home team  homePTS\n",
       "0     Orlando Magic          84  New Orleans Pelicans      101\n",
       "1  Dallas Mavericks         100     San Antonio Spurs      101\n",
       "2   Houston Rockets         108    Los Angeles Lakers       90"
      ]
     },
     "execution_count": 9,
     "metadata": {},
     "output_type": "execute_result"
    }
   ],
   "source": [
    "# 일부 Column만 사용\n",
    "dataset = dataset[['Visitor team','visitorPTS','Home team','homePTS']]\n",
    "dataset.head(3)"
   ]
  },
  {
   "cell_type": "markdown",
   "metadata": {},
   "source": [
    "## Extracting new features"
   ]
  },
  {
   "cell_type": "markdown",
   "metadata": {},
   "source": [
    "데이터로부터 다음과 같은 feature들을 추출.\n",
    "* HomeLastWin : 홈팀이 지난경기에서 이기면 1, 지면 0  \n",
    "* VisitorLastWin : 원정팀이 지난경기에서 이기면 1, 지면 0  \n",
    "* HomeTeamRanksHigher : 홈팀 랭킹이 원정팀 랭킹보다 높으면 1, 아니면 0  \n",
    "* HomeTeamWonLast : 지난 홈팀 vs 원정팀 경기에서 홈팀이 이겼으면 1, 아니면 0"
   ]
  },
  {
   "cell_type": "code",
   "execution_count": 10,
   "metadata": {},
   "outputs": [],
   "source": [
    "dataset[\"HomeWin\"] = dataset[\"visitorPTS\"] < dataset[\"homePTS\"]"
   ]
  },
  {
   "cell_type": "code",
   "execution_count": 11,
   "metadata": {},
   "outputs": [
    {
     "name": "stdout",
     "output_type": "stream",
     "text": [
      "(1311,)\n"
     ]
    }
   ],
   "source": [
    "y_true = dataset[\"HomeWin\"].values\n",
    "print(y_true.shape)"
   ]
  },
  {
   "cell_type": "code",
   "execution_count": 12,
   "metadata": {},
   "outputs": [
    {
     "data": {
      "text/plain": [
       "array([ True,  True, False,  True,  True,  True,  True,  True, False,\n",
       "        True])"
      ]
     },
     "execution_count": 12,
     "metadata": {},
     "output_type": "execute_result"
    }
   ],
   "source": [
    "y_true[:10]"
   ]
  },
  {
   "cell_type": "code",
   "execution_count": 11,
   "metadata": {},
   "outputs": [],
   "source": [
    "won_last = defaultdict(int)"
   ]
  },
  {
   "cell_type": "code",
   "execution_count": 13,
   "metadata": {},
   "outputs": [],
   "source": [
    "dataset2 = pd.DataFrame()\n",
    "for index, row in dataset.iterrows():  \n",
    "    home_team = row[\"Home team\"]  \n",
    "    visitor_team = row[\"Visitor team\"] \n",
    "    row[\"HomeLastWin\"] = won_last[home_team] \n",
    "    row[\"VisitorLastWin\"] = won_last[visitor_team]\n",
    "    won_last[home_team] = row[\"HomeWin\"]\n",
    "    won_last[visitor_team] = not row[\"HomeWin\"]\n",
    "    dataset.iloc[index] = row\n",
    "    dataset2 = dataset2.append(row)"
   ]
  },
  {
   "cell_type": "code",
   "execution_count": 14,
   "metadata": {},
   "outputs": [
    {
     "data": {
      "text/html": [
       "<div>\n",
       "<style scoped>\n",
       "    .dataframe tbody tr th:only-of-type {\n",
       "        vertical-align: middle;\n",
       "    }\n",
       "\n",
       "    .dataframe tbody tr th {\n",
       "        vertical-align: top;\n",
       "    }\n",
       "\n",
       "    .dataframe thead th {\n",
       "        text-align: right;\n",
       "    }\n",
       "</style>\n",
       "<table border=\"1\" class=\"dataframe\">\n",
       "  <thead>\n",
       "    <tr style=\"text-align: right;\">\n",
       "      <th></th>\n",
       "      <th>Home team</th>\n",
       "      <th>HomeLastWin</th>\n",
       "      <th>HomeWin</th>\n",
       "      <th>Visitor team</th>\n",
       "      <th>VisitorLastWin</th>\n",
       "      <th>homePTS</th>\n",
       "      <th>visitorPTS</th>\n",
       "    </tr>\n",
       "  </thead>\n",
       "  <tbody>\n",
       "    <tr>\n",
       "      <th>1308</th>\n",
       "      <td>Cleveland Cavaliers</td>\n",
       "      <td>1.0</td>\n",
       "      <td>0.0</td>\n",
       "      <td>Golden State Warriors</td>\n",
       "      <td>0.0</td>\n",
       "      <td>82.0</td>\n",
       "      <td>103.0</td>\n",
       "    </tr>\n",
       "    <tr>\n",
       "      <th>1309</th>\n",
       "      <td>Golden State Warriors</td>\n",
       "      <td>1.0</td>\n",
       "      <td>1.0</td>\n",
       "      <td>Cleveland Cavaliers</td>\n",
       "      <td>0.0</td>\n",
       "      <td>104.0</td>\n",
       "      <td>91.0</td>\n",
       "    </tr>\n",
       "    <tr>\n",
       "      <th>1310</th>\n",
       "      <td>Cleveland Cavaliers</td>\n",
       "      <td>0.0</td>\n",
       "      <td>0.0</td>\n",
       "      <td>Golden State Warriors</td>\n",
       "      <td>1.0</td>\n",
       "      <td>97.0</td>\n",
       "      <td>105.0</td>\n",
       "    </tr>\n",
       "  </tbody>\n",
       "</table>\n",
       "</div>"
      ],
      "text/plain": [
       "                  Home team  HomeLastWin  HomeWin           Visitor team  \\\n",
       "1308    Cleveland Cavaliers          1.0      0.0  Golden State Warriors   \n",
       "1309  Golden State Warriors          1.0      1.0    Cleveland Cavaliers   \n",
       "1310    Cleveland Cavaliers          0.0      0.0  Golden State Warriors   \n",
       "\n",
       "      VisitorLastWin  homePTS  visitorPTS  \n",
       "1308             0.0     82.0       103.0  \n",
       "1309             0.0    104.0        91.0  \n",
       "1310             1.0     97.0       105.0  "
      ]
     },
     "execution_count": 14,
     "metadata": {},
     "output_type": "execute_result"
    }
   ],
   "source": [
    "dataset2.tail(3)"
   ]
  },
  {
   "cell_type": "markdown",
   "metadata": {},
   "source": [
    "We will create a feature that tells us if the home team is generally better than the visitors. To do this, we will load the standings (also called a ladder in some sports) from the NBA in the previous season. A team will be considered better if it ranked higher in 2013 than the other team."
   ]
  },
  {
   "cell_type": "code",
   "execution_count": 15,
   "metadata": {},
   "outputs": [],
   "source": [
    "data_folder = './'"
   ]
  },
  {
   "cell_type": "code",
   "execution_count": 16,
   "metadata": {},
   "outputs": [],
   "source": [
    "standings_filename = os.path.join(data_folder, \"NBA_14standings.csv\")\n",
    "standings = pd.read_csv(standings_filename)"
   ]
  },
  {
   "cell_type": "code",
   "execution_count": 17,
   "metadata": {},
   "outputs": [
    {
     "data": {
      "text/html": [
       "<div>\n",
       "<style scoped>\n",
       "    .dataframe tbody tr th:only-of-type {\n",
       "        vertical-align: middle;\n",
       "    }\n",
       "\n",
       "    .dataframe tbody tr th {\n",
       "        vertical-align: top;\n",
       "    }\n",
       "\n",
       "    .dataframe thead th {\n",
       "        text-align: right;\n",
       "    }\n",
       "</style>\n",
       "<table border=\"1\" class=\"dataframe\">\n",
       "  <thead>\n",
       "    <tr style=\"text-align: right;\">\n",
       "      <th></th>\n",
       "      <th>Rk</th>\n",
       "      <th>Team</th>\n",
       "      <th>Overall</th>\n",
       "      <th>Home</th>\n",
       "      <th>Road</th>\n",
       "      <th>E</th>\n",
       "      <th>W</th>\n",
       "      <th>A</th>\n",
       "      <th>C</th>\n",
       "      <th>SE</th>\n",
       "      <th>...</th>\n",
       "      <th>Post</th>\n",
       "      <th>≤3</th>\n",
       "      <th>≥10</th>\n",
       "      <th>Oct</th>\n",
       "      <th>Nov</th>\n",
       "      <th>Dec</th>\n",
       "      <th>Jan</th>\n",
       "      <th>Feb</th>\n",
       "      <th>Mar</th>\n",
       "      <th>Apr</th>\n",
       "    </tr>\n",
       "  </thead>\n",
       "  <tbody>\n",
       "    <tr>\n",
       "      <th>0</th>\n",
       "      <td>1</td>\n",
       "      <td>Golden State Warriors</td>\n",
       "      <td>67-15</td>\n",
       "      <td>39-2</td>\n",
       "      <td>28-13</td>\n",
       "      <td>25-5</td>\n",
       "      <td>42-10</td>\n",
       "      <td>9-1</td>\n",
       "      <td>7-3</td>\n",
       "      <td>9-1</td>\n",
       "      <td>...</td>\n",
       "      <td>25-6</td>\n",
       "      <td>5-3</td>\n",
       "      <td>45-9</td>\n",
       "      <td>1-0</td>\n",
       "      <td>13-2</td>\n",
       "      <td>11-3</td>\n",
       "      <td>12-3</td>\n",
       "      <td>8-3</td>\n",
       "      <td>16-2</td>\n",
       "      <td>6-2</td>\n",
       "    </tr>\n",
       "    <tr>\n",
       "      <th>1</th>\n",
       "      <td>2</td>\n",
       "      <td>Atlanta Hawks</td>\n",
       "      <td>60-22</td>\n",
       "      <td>35-6</td>\n",
       "      <td>25-16</td>\n",
       "      <td>38-14</td>\n",
       "      <td>22-8</td>\n",
       "      <td>12-6</td>\n",
       "      <td>14-4</td>\n",
       "      <td>12-4</td>\n",
       "      <td>...</td>\n",
       "      <td>17-11</td>\n",
       "      <td>6-4</td>\n",
       "      <td>30-10</td>\n",
       "      <td>0-1</td>\n",
       "      <td>9-5</td>\n",
       "      <td>14-2</td>\n",
       "      <td>17-0</td>\n",
       "      <td>7-4</td>\n",
       "      <td>9-7</td>\n",
       "      <td>4-3</td>\n",
       "    </tr>\n",
       "  </tbody>\n",
       "</table>\n",
       "<p>2 rows × 24 columns</p>\n",
       "</div>"
      ],
      "text/plain": [
       "   Rk                   Team Overall  Home   Road      E      W     A     C  \\\n",
       "0   1  Golden State Warriors   67-15  39-2  28-13   25-5  42-10   9-1   7-3   \n",
       "1   2          Atlanta Hawks   60-22  35-6  25-16  38-14   22-8  12-6  14-4   \n",
       "\n",
       "     SE  ...   Post   ≤3    ≥10  Oct   Nov   Dec   Jan  Feb   Mar  Apr  \n",
       "0   9-1  ...   25-6  5-3   45-9  1-0  13-2  11-3  12-3  8-3  16-2  6-2  \n",
       "1  12-4  ...  17-11  6-4  30-10  0-1   9-5  14-2  17-0  7-4   9-7  4-3  \n",
       "\n",
       "[2 rows x 24 columns]"
      ]
     },
     "execution_count": 17,
     "metadata": {},
     "output_type": "execute_result"
    }
   ],
   "source": [
    "standings.head(2)"
   ]
  },
  {
   "cell_type": "markdown",
   "metadata": {},
   "source": [
    "As an important adjustment to the data, a team was renamed between the 2014 and 2015 seasons (but it was still the same team). We will need to adjust."
   ]
  },
  {
   "cell_type": "markdown",
   "metadata": {},
   "source": [
    "* HomeTeamRanksHigher : 홈팀 랭킹이 원정팀 랭킹보다 높으면 1, 아니면 0"
   ]
  },
  {
   "cell_type": "code",
   "execution_count": 18,
   "metadata": {},
   "outputs": [],
   "source": [
    "dataset2[\"HomeTeamRanksHigher\"] = 0\n",
    "\n",
    "dataset3 = pd.DataFrame()\n",
    "for index, row in dataset2.iterrows():\n",
    "    home_team = row[\"Home team\"]\n",
    "    visitor_team = row[\"Visitor team\"]\n",
    "    home_rank = standings[standings[\"Team\"] == home_team][\"Rk\"].values[0]\n",
    "    visitor_rank = standings[standings[\"Team\"] == visitor_team][\"Rk\"].values[0]\n",
    "    row[\"HomeTeamRanksHigher\"] = int(home_rank > visitor_rank)\n",
    "    dataset2.iloc[index] = row\n",
    "    dataset3 = dataset3.append(row)"
   ]
  },
  {
   "cell_type": "code",
   "execution_count": 19,
   "metadata": {},
   "outputs": [
    {
     "data": {
      "text/html": [
       "<div>\n",
       "<style scoped>\n",
       "    .dataframe tbody tr th:only-of-type {\n",
       "        vertical-align: middle;\n",
       "    }\n",
       "\n",
       "    .dataframe tbody tr th {\n",
       "        vertical-align: top;\n",
       "    }\n",
       "\n",
       "    .dataframe thead th {\n",
       "        text-align: right;\n",
       "    }\n",
       "</style>\n",
       "<table border=\"1\" class=\"dataframe\">\n",
       "  <thead>\n",
       "    <tr style=\"text-align: right;\">\n",
       "      <th></th>\n",
       "      <th>Home team</th>\n",
       "      <th>HomeLastWin</th>\n",
       "      <th>HomeTeamRanksHigher</th>\n",
       "      <th>HomeWin</th>\n",
       "      <th>Visitor team</th>\n",
       "      <th>VisitorLastWin</th>\n",
       "      <th>homePTS</th>\n",
       "      <th>visitorPTS</th>\n",
       "    </tr>\n",
       "  </thead>\n",
       "  <tbody>\n",
       "    <tr>\n",
       "      <th>0</th>\n",
       "      <td>New Orleans Pelicans</td>\n",
       "      <td>0.0</td>\n",
       "      <td>0.0</td>\n",
       "      <td>1.0</td>\n",
       "      <td>Orlando Magic</td>\n",
       "      <td>0.0</td>\n",
       "      <td>101.0</td>\n",
       "      <td>84.0</td>\n",
       "    </tr>\n",
       "    <tr>\n",
       "      <th>1</th>\n",
       "      <td>San Antonio Spurs</td>\n",
       "      <td>0.0</td>\n",
       "      <td>0.0</td>\n",
       "      <td>1.0</td>\n",
       "      <td>Dallas Mavericks</td>\n",
       "      <td>0.0</td>\n",
       "      <td>101.0</td>\n",
       "      <td>100.0</td>\n",
       "    </tr>\n",
       "  </tbody>\n",
       "</table>\n",
       "</div>"
      ],
      "text/plain": [
       "              Home team  HomeLastWin  HomeTeamRanksHigher  HomeWin  \\\n",
       "0  New Orleans Pelicans          0.0                  0.0      1.0   \n",
       "1     San Antonio Spurs          0.0                  0.0      1.0   \n",
       "\n",
       "       Visitor team  VisitorLastWin  homePTS  visitorPTS  \n",
       "0     Orlando Magic             0.0    101.0        84.0  \n",
       "1  Dallas Mavericks             0.0    101.0       100.0  "
      ]
     },
     "execution_count": 19,
     "metadata": {},
     "output_type": "execute_result"
    }
   ],
   "source": [
    "dataset3.head(2)"
   ]
  },
  {
   "cell_type": "code",
   "execution_count": 20,
   "metadata": {},
   "outputs": [],
   "source": [
    "last_match_winner = defaultdict(int)\n",
    "dataset3[\"HomeTeamWonLast\"] = 0"
   ]
  },
  {
   "cell_type": "code",
   "execution_count": 21,
   "metadata": {},
   "outputs": [],
   "source": [
    "dataset4 = pd.DataFrame()\n",
    "for index, row in dataset3.iterrows():\n",
    "    home_team = row[\"Home team\"]\n",
    "    visitor_team = row[\"Visitor team\"]\n",
    "    teams = tuple(sorted([home_team, visitor_team]))\n",
    "    row[\"HomeTeamWonLast\"] = 1 if last_match_winner[teams] == row[\"Home team\"] else 0\n",
    "    winner = row[\"Home team\"] if row[\"HomeWin\"] else row [\"Visitor team\"]\n",
    "    last_match_winner[teams] = winner\n",
    "    dataset4 = dataset4.append(row)"
   ]
  },
  {
   "cell_type": "markdown",
   "metadata": {},
   "source": [
    "HomeTeamWonLast : 지난 홈팀 vs 원정팀 경기에서 홈팀이 이겼으면 1, 아니면 0"
   ]
  },
  {
   "cell_type": "code",
   "execution_count": 22,
   "metadata": {},
   "outputs": [],
   "source": [
    "dataset4 = dataset4[['Visitor team', 'visitorPTS', 'Home team', 'homePTS','HomeWin','HomeLastWin','VisitorLastWin', 'HomeTeamRanksHigher','HomeTeamWonLast']]"
   ]
  },
  {
   "cell_type": "code",
   "execution_count": 23,
   "metadata": {
    "scrolled": true
   },
   "outputs": [
    {
     "data": {
      "text/html": [
       "<div>\n",
       "<style scoped>\n",
       "    .dataframe tbody tr th:only-of-type {\n",
       "        vertical-align: middle;\n",
       "    }\n",
       "\n",
       "    .dataframe tbody tr th {\n",
       "        vertical-align: top;\n",
       "    }\n",
       "\n",
       "    .dataframe thead th {\n",
       "        text-align: right;\n",
       "    }\n",
       "</style>\n",
       "<table border=\"1\" class=\"dataframe\">\n",
       "  <thead>\n",
       "    <tr style=\"text-align: right;\">\n",
       "      <th></th>\n",
       "      <th>Visitor team</th>\n",
       "      <th>visitorPTS</th>\n",
       "      <th>Home team</th>\n",
       "      <th>homePTS</th>\n",
       "      <th>HomeWin</th>\n",
       "      <th>HomeLastWin</th>\n",
       "      <th>VisitorLastWin</th>\n",
       "      <th>HomeTeamRanksHigher</th>\n",
       "      <th>HomeTeamWonLast</th>\n",
       "    </tr>\n",
       "  </thead>\n",
       "  <tbody>\n",
       "    <tr>\n",
       "      <th>0</th>\n",
       "      <td>Orlando Magic</td>\n",
       "      <td>84.0</td>\n",
       "      <td>New Orleans Pelicans</td>\n",
       "      <td>101.0</td>\n",
       "      <td>1.0</td>\n",
       "      <td>0.0</td>\n",
       "      <td>0.0</td>\n",
       "      <td>0.0</td>\n",
       "      <td>0.0</td>\n",
       "    </tr>\n",
       "    <tr>\n",
       "      <th>1</th>\n",
       "      <td>Dallas Mavericks</td>\n",
       "      <td>100.0</td>\n",
       "      <td>San Antonio Spurs</td>\n",
       "      <td>101.0</td>\n",
       "      <td>1.0</td>\n",
       "      <td>0.0</td>\n",
       "      <td>0.0</td>\n",
       "      <td>0.0</td>\n",
       "      <td>0.0</td>\n",
       "    </tr>\n",
       "  </tbody>\n",
       "</table>\n",
       "</div>"
      ],
      "text/plain": [
       "       Visitor team  visitorPTS             Home team  homePTS  HomeWin  \\\n",
       "0     Orlando Magic        84.0  New Orleans Pelicans    101.0      1.0   \n",
       "1  Dallas Mavericks       100.0     San Antonio Spurs    101.0      1.0   \n",
       "\n",
       "   HomeLastWin  VisitorLastWin  HomeTeamRanksHigher  HomeTeamWonLast  \n",
       "0          0.0             0.0                  0.0              0.0  \n",
       "1          0.0             0.0                  0.0              0.0  "
      ]
     },
     "execution_count": 23,
     "metadata": {},
     "output_type": "execute_result"
    }
   ],
   "source": [
    "dataset4.head(2)"
   ]
  },
  {
   "cell_type": "code",
   "execution_count": 24,
   "metadata": {},
   "outputs": [],
   "source": [
    "dataset4.to_csv('./NBA_14_all.csv',index = False)"
   ]
  },
  {
   "cell_type": "markdown",
   "metadata": {},
   "source": [
    "We will also try putting the raw teams into the algorithm to check whether the algorithm can learn a model that checks how different teams play against each other"
   ]
  },
  {
   "cell_type": "code",
   "execution_count": 25,
   "metadata": {},
   "outputs": [],
   "source": [
    "from sklearn.preprocessing import LabelEncoder\n",
    "encoding = LabelEncoder()"
   ]
  },
  {
   "cell_type": "code",
   "execution_count": 26,
   "metadata": {},
   "outputs": [
    {
     "data": {
      "text/plain": [
       "LabelEncoder()"
      ]
     },
     "execution_count": 26,
     "metadata": {},
     "output_type": "execute_result"
    }
   ],
   "source": [
    "encoding.fit(dataset4[\"Home team\"].values)"
   ]
  },
  {
   "cell_type": "code",
   "execution_count": 27,
   "metadata": {},
   "outputs": [],
   "source": [
    "home_teams = encoding.transform(dataset4[\"Home team\"].values)\n",
    "visitor_teams = encoding.transform(dataset4[\"Visitor team\"].values)\n",
    "X_teams = np.vstack([home_teams, visitor_teams]).T"
   ]
  },
  {
   "cell_type": "code",
   "execution_count": 28,
   "metadata": {},
   "outputs": [
    {
     "name": "stdout",
     "output_type": "stream",
     "text": [
      "[18 26 13  3 11]\n",
      "(1311, 2)\n"
     ]
    }
   ],
   "source": [
    "print(home_teams[:5])  \n",
    "print(X_teams.shape)"
   ]
  },
  {
   "cell_type": "code",
   "execution_count": 29,
   "metadata": {},
   "outputs": [
    {
     "data": {
      "text/plain": [
       "array([18, 21])"
      ]
     },
     "execution_count": 29,
     "metadata": {},
     "output_type": "execute_result"
    }
   ],
   "source": [
    "X_teams[0]"
   ]
  },
  {
   "cell_type": "code",
   "execution_count": 30,
   "metadata": {},
   "outputs": [],
   "source": [
    "from sklearn.preprocessing import OneHotEncoder\n",
    "onehot = OneHotEncoder()"
   ]
  },
  {
   "cell_type": "code",
   "execution_count": 31,
   "metadata": {},
   "outputs": [],
   "source": [
    "X_teams_expanded = onehot.fit_transform(X_teams).todense()"
   ]
  },
  {
   "cell_type": "code",
   "execution_count": 32,
   "metadata": {
    "scrolled": true
   },
   "outputs": [
    {
     "data": {
      "text/plain": [
       "matrix([[0., 0., 0., 0., 0., 0., 0., 0., 0., 0., 0., 0., 0., 0., 0., 0.,\n",
       "         0., 0., 1., 0., 0., 0., 0., 0., 0., 0., 0., 0., 0., 0., 0., 0.,\n",
       "         0., 0., 0., 0., 0., 0., 0., 0., 0., 0., 0., 0., 0., 0., 0., 0.,\n",
       "         0., 0., 0., 1., 0., 0., 0., 0., 0., 0., 0., 0.]])"
      ]
     },
     "execution_count": 32,
     "metadata": {},
     "output_type": "execute_result"
    }
   ],
   "source": [
    "X_teams_expanded[0]  "
   ]
  },
  {
   "cell_type": "code",
   "execution_count": 60,
   "metadata": {},
   "outputs": [
    {
     "data": {
      "text/plain": [
       "(1, 60)"
      ]
     },
     "execution_count": 60,
     "metadata": {},
     "output_type": "execute_result"
    }
   ],
   "source": [
    "X_teams_expanded[0].shape"
   ]
  },
  {
   "cell_type": "code",
   "execution_count": 33,
   "metadata": {
    "scrolled": false
   },
   "outputs": [
    {
     "data": {
      "text/plain": [
       "(1311, 60)"
      ]
     },
     "execution_count": 33,
     "metadata": {},
     "output_type": "execute_result"
    }
   ],
   "source": [
    "X_teams_expanded.shape"
   ]
  },
  {
   "cell_type": "code",
   "execution_count": 34,
   "metadata": {},
   "outputs": [],
   "source": [
    "dataset4 = pd.concat([dataset4, pd.DataFrame(X_teams_expanded)], axis=1)"
   ]
  },
  {
   "cell_type": "code",
   "execution_count": 35,
   "metadata": {},
   "outputs": [
    {
     "data": {
      "text/plain": [
       "(1311, 69)"
      ]
     },
     "execution_count": 35,
     "metadata": {},
     "output_type": "execute_result"
    }
   ],
   "source": [
    "dataset4.shape"
   ]
  },
  {
   "cell_type": "code",
   "execution_count": 36,
   "metadata": {},
   "outputs": [],
   "source": [
    "dataset5 = dataset4.iloc[:,5:]"
   ]
  },
  {
   "cell_type": "markdown",
   "metadata": {},
   "source": [
    "#### feature explain\n",
    "* HomeLastWin : Did the home team win the last game?\n",
    "* VisitorLastWin : Did the visitor team win the last game?\n",
    "* HomeTeamRanksHigher : Does the home team rank higher than the visitor team?\n",
    "* HomeTeamWonLast : Did the home team win last home vs visitor game?\n",
    "* 0-60 : one-hot encoding team number --> hometeam(0-29), visitor team(30-59)"
   ]
  },
  {
   "cell_type": "code",
   "execution_count": 37,
   "metadata": {},
   "outputs": [
    {
     "data": {
      "text/html": [
       "<div>\n",
       "<style scoped>\n",
       "    .dataframe tbody tr th:only-of-type {\n",
       "        vertical-align: middle;\n",
       "    }\n",
       "\n",
       "    .dataframe tbody tr th {\n",
       "        vertical-align: top;\n",
       "    }\n",
       "\n",
       "    .dataframe thead th {\n",
       "        text-align: right;\n",
       "    }\n",
       "</style>\n",
       "<table border=\"1\" class=\"dataframe\">\n",
       "  <thead>\n",
       "    <tr style=\"text-align: right;\">\n",
       "      <th></th>\n",
       "      <th>HomeLastWin</th>\n",
       "      <th>VisitorLastWin</th>\n",
       "      <th>HomeTeamRanksHigher</th>\n",
       "      <th>HomeTeamWonLast</th>\n",
       "      <th>0</th>\n",
       "      <th>1</th>\n",
       "      <th>2</th>\n",
       "      <th>3</th>\n",
       "      <th>4</th>\n",
       "      <th>5</th>\n",
       "      <th>...</th>\n",
       "      <th>50</th>\n",
       "      <th>51</th>\n",
       "      <th>52</th>\n",
       "      <th>53</th>\n",
       "      <th>54</th>\n",
       "      <th>55</th>\n",
       "      <th>56</th>\n",
       "      <th>57</th>\n",
       "      <th>58</th>\n",
       "      <th>59</th>\n",
       "    </tr>\n",
       "  </thead>\n",
       "  <tbody>\n",
       "    <tr>\n",
       "      <th>1308</th>\n",
       "      <td>1.0</td>\n",
       "      <td>0.0</td>\n",
       "      <td>1.0</td>\n",
       "      <td>1.0</td>\n",
       "      <td>0.0</td>\n",
       "      <td>0.0</td>\n",
       "      <td>0.0</td>\n",
       "      <td>0.0</td>\n",
       "      <td>0.0</td>\n",
       "      <td>1.0</td>\n",
       "      <td>...</td>\n",
       "      <td>0.0</td>\n",
       "      <td>0.0</td>\n",
       "      <td>0.0</td>\n",
       "      <td>0.0</td>\n",
       "      <td>0.0</td>\n",
       "      <td>0.0</td>\n",
       "      <td>0.0</td>\n",
       "      <td>0.0</td>\n",
       "      <td>0.0</td>\n",
       "      <td>0.0</td>\n",
       "    </tr>\n",
       "    <tr>\n",
       "      <th>1309</th>\n",
       "      <td>1.0</td>\n",
       "      <td>0.0</td>\n",
       "      <td>0.0</td>\n",
       "      <td>1.0</td>\n",
       "      <td>0.0</td>\n",
       "      <td>0.0</td>\n",
       "      <td>0.0</td>\n",
       "      <td>0.0</td>\n",
       "      <td>0.0</td>\n",
       "      <td>0.0</td>\n",
       "      <td>...</td>\n",
       "      <td>0.0</td>\n",
       "      <td>0.0</td>\n",
       "      <td>0.0</td>\n",
       "      <td>0.0</td>\n",
       "      <td>0.0</td>\n",
       "      <td>0.0</td>\n",
       "      <td>0.0</td>\n",
       "      <td>0.0</td>\n",
       "      <td>0.0</td>\n",
       "      <td>0.0</td>\n",
       "    </tr>\n",
       "    <tr>\n",
       "      <th>1310</th>\n",
       "      <td>0.0</td>\n",
       "      <td>1.0</td>\n",
       "      <td>1.0</td>\n",
       "      <td>0.0</td>\n",
       "      <td>0.0</td>\n",
       "      <td>0.0</td>\n",
       "      <td>0.0</td>\n",
       "      <td>0.0</td>\n",
       "      <td>0.0</td>\n",
       "      <td>1.0</td>\n",
       "      <td>...</td>\n",
       "      <td>0.0</td>\n",
       "      <td>0.0</td>\n",
       "      <td>0.0</td>\n",
       "      <td>0.0</td>\n",
       "      <td>0.0</td>\n",
       "      <td>0.0</td>\n",
       "      <td>0.0</td>\n",
       "      <td>0.0</td>\n",
       "      <td>0.0</td>\n",
       "      <td>0.0</td>\n",
       "    </tr>\n",
       "  </tbody>\n",
       "</table>\n",
       "<p>3 rows × 64 columns</p>\n",
       "</div>"
      ],
      "text/plain": [
       "      HomeLastWin  VisitorLastWin  HomeTeamRanksHigher  HomeTeamWonLast    0  \\\n",
       "1308          1.0             0.0                  1.0              1.0  0.0   \n",
       "1309          1.0             0.0                  0.0              1.0  0.0   \n",
       "1310          0.0             1.0                  1.0              0.0  0.0   \n",
       "\n",
       "        1    2    3    4    5  ...   50   51   52   53   54   55   56   57  \\\n",
       "1308  0.0  0.0  0.0  0.0  1.0  ...  0.0  0.0  0.0  0.0  0.0  0.0  0.0  0.0   \n",
       "1309  0.0  0.0  0.0  0.0  0.0  ...  0.0  0.0  0.0  0.0  0.0  0.0  0.0  0.0   \n",
       "1310  0.0  0.0  0.0  0.0  1.0  ...  0.0  0.0  0.0  0.0  0.0  0.0  0.0  0.0   \n",
       "\n",
       "       58   59  \n",
       "1308  0.0  0.0  \n",
       "1309  0.0  0.0  \n",
       "1310  0.0  0.0  \n",
       "\n",
       "[3 rows x 64 columns]"
      ]
     },
     "execution_count": 37,
     "metadata": {},
     "output_type": "execute_result"
    }
   ],
   "source": [
    "dataset5.tail(3)"
   ]
  },
  {
   "cell_type": "code",
   "execution_count": 42,
   "metadata": {},
   "outputs": [],
   "source": [
    "from sklearn.model_selection import train_test_split\n",
    "X_train, X_test, y_train, y_test = train_test_split(dataset5, y_true, test_size=0.3, random_state=0)"
   ]
  },
  {
   "cell_type": "code",
   "execution_count": 43,
   "metadata": {},
   "outputs": [
    {
     "data": {
      "text/plain": [
       "((917, 64), (394, 64))"
      ]
     },
     "execution_count": 43,
     "metadata": {},
     "output_type": "execute_result"
    }
   ],
   "source": [
    "X_train.shape, X_test.shape"
   ]
  },
  {
   "cell_type": "markdown",
   "metadata": {},
   "source": [
    "### Neual Network"
   ]
  },
  {
   "cell_type": "code",
   "execution_count": 13,
   "metadata": {},
   "outputs": [
    {
     "name": "stdout",
     "output_type": "stream",
     "text": [
      "INFO:tensorflow:Enabling eager execution\n",
      "INFO:tensorflow:Enabling v2 tensorshape\n",
      "INFO:tensorflow:Enabling resource variables\n",
      "INFO:tensorflow:Enabling tensor equality\n",
      "INFO:tensorflow:Enabling control flow v2\n"
     ]
    }
   ],
   "source": [
    "from tensorflow.keras import models, layers"
   ]
  },
  {
   "cell_type": "code",
   "execution_count": 45,
   "metadata": {},
   "outputs": [
    {
     "name": "stderr",
     "output_type": "stream",
     "text": [
      "WARNING: Logging before flag parsing goes to stderr.\n",
      "W0518 11:28:23.904905 139819460454208 deprecation_wrapper.py:119] From /home/hyejoo/.venv/py367tf/lib/python3.6/site-packages/keras/backend/tensorflow_backend.py:74: The name tf.get_default_graph is deprecated. Please use tf.compat.v1.get_default_graph instead.\n",
      "\n"
     ]
    }
   ],
   "source": [
    "model = models.Sequential()"
   ]
  },
  {
   "cell_type": "code",
   "execution_count": 46,
   "metadata": {},
   "outputs": [
    {
     "name": "stderr",
     "output_type": "stream",
     "text": [
      "W0518 11:28:23.925249 139819460454208 deprecation_wrapper.py:119] From /home/hyejoo/.venv/py367tf/lib/python3.6/site-packages/keras/backend/tensorflow_backend.py:517: The name tf.placeholder is deprecated. Please use tf.compat.v1.placeholder instead.\n",
      "\n",
      "W0518 11:28:23.927968 139819460454208 deprecation_wrapper.py:119] From /home/hyejoo/.venv/py367tf/lib/python3.6/site-packages/keras/backend/tensorflow_backend.py:4138: The name tf.random_uniform is deprecated. Please use tf.random.uniform instead.\n",
      "\n"
     ]
    }
   ],
   "source": [
    "# adding the layers\n",
    "model.add(layers.Dense(8, activation='relu', input_shape=[X_train.shape[1]]))\n",
    "model.add(layers.Dense(16, activation='relu'))\n",
    "# output layer\n",
    "model.add(layers.Dense(1))"
   ]
  },
  {
   "cell_type": "code",
   "execution_count": 47,
   "metadata": {},
   "outputs": [
    {
     "name": "stdout",
     "output_type": "stream",
     "text": [
      "_________________________________________________________________\n",
      "Layer (type)                 Output Shape              Param #   \n",
      "=================================================================\n",
      "dense_1 (Dense)              (None, 8)                 520       \n",
      "_________________________________________________________________\n",
      "dense_2 (Dense)              (None, 16)                144       \n",
      "_________________________________________________________________\n",
      "dense_3 (Dense)              (None, 1)                 17        \n",
      "=================================================================\n",
      "Total params: 681\n",
      "Trainable params: 681\n",
      "Non-trainable params: 0\n",
      "_________________________________________________________________\n"
     ]
    }
   ],
   "source": [
    "model.summary()"
   ]
  },
  {
   "cell_type": "code",
   "execution_count": 48,
   "metadata": {},
   "outputs": [
    {
     "name": "stderr",
     "output_type": "stream",
     "text": [
      "W0518 11:28:24.036870 139819460454208 deprecation_wrapper.py:119] From /home/hyejoo/.venv/py367tf/lib/python3.6/site-packages/keras/optimizers.py:790: The name tf.train.Optimizer is deprecated. Please use tf.compat.v1.train.Optimizer instead.\n",
      "\n",
      "W0518 11:28:24.055033 139819460454208 deprecation_wrapper.py:119] From /home/hyejoo/.venv/py367tf/lib/python3.6/site-packages/keras/backend/tensorflow_backend.py:3376: The name tf.log is deprecated. Please use tf.math.log instead.\n",
      "\n",
      "W0518 11:28:24.057897 139819460454208 deprecation.py:323] From /home/hyejoo/.venv/py367tf/lib/python3.6/site-packages/tensorflow/python/ops/nn_impl.py:180: add_dispatch_support.<locals>.wrapper (from tensorflow.python.ops.array_ops) is deprecated and will be removed in a future version.\n",
      "Instructions for updating:\n",
      "Use tf.where in 2.0, which has the same broadcast rule as np.where\n"
     ]
    }
   ],
   "source": [
    "model.compile(optimizer='adam', loss='binary_crossentropy', metrics=['accuracy'])"
   ]
  },
  {
   "cell_type": "code",
   "execution_count": 49,
   "metadata": {},
   "outputs": [
    {
     "name": "stderr",
     "output_type": "stream",
     "text": [
      "W0518 11:28:24.159259 139819460454208 deprecation_wrapper.py:119] From /home/hyejoo/.venv/py367tf/lib/python3.6/site-packages/keras/backend/tensorflow_backend.py:986: The name tf.assign_add is deprecated. Please use tf.compat.v1.assign_add instead.\n",
      "\n"
     ]
    },
    {
     "name": "stdout",
     "output_type": "stream",
     "text": [
      "Train on 733 samples, validate on 184 samples\n",
      "Epoch 1/100\n",
      "733/733 [==============================] - 1s 1ms/step - loss: 1.7184 - acc: 0.4284 - val_loss: 1.1228 - val_acc: 0.4239\n",
      "Epoch 2/100\n",
      "733/733 [==============================] - 0s 105us/step - loss: 1.0124 - acc: 0.4366 - val_loss: 0.9358 - val_acc: 0.4293\n",
      "Epoch 3/100\n",
      "733/733 [==============================] - 0s 103us/step - loss: 0.8497 - acc: 0.4502 - val_loss: 0.8455 - val_acc: 0.4348\n",
      "Epoch 4/100\n",
      "733/733 [==============================] - 0s 107us/step - loss: 0.7850 - acc: 0.4952 - val_loss: 0.7994 - val_acc: 0.4837\n",
      "Epoch 5/100\n",
      "733/733 [==============================] - 0s 102us/step - loss: 0.7625 - acc: 0.5389 - val_loss: 0.7740 - val_acc: 0.4891\n",
      "Epoch 6/100\n",
      "733/733 [==============================] - 0s 102us/step - loss: 0.7367 - acc: 0.5621 - val_loss: 0.7582 - val_acc: 0.5163\n",
      "Epoch 7/100\n",
      "733/733 [==============================] - 0s 98us/step - loss: 0.7158 - acc: 0.5866 - val_loss: 0.7475 - val_acc: 0.5435\n",
      "Epoch 8/100\n",
      "733/733 [==============================] - 0s 100us/step - loss: 0.6978 - acc: 0.6003 - val_loss: 0.7380 - val_acc: 0.5489\n",
      "Epoch 9/100\n",
      "733/733 [==============================] - 0s 99us/step - loss: 0.6827 - acc: 0.6235 - val_loss: 0.7321 - val_acc: 0.5543\n",
      "Epoch 10/100\n",
      "733/733 [==============================] - 0s 98us/step - loss: 0.6681 - acc: 0.6330 - val_loss: 0.7256 - val_acc: 0.5598\n",
      "Epoch 11/100\n",
      "733/733 [==============================] - 0s 93us/step - loss: 0.6545 - acc: 0.6385 - val_loss: 0.7321 - val_acc: 0.5489\n",
      "Epoch 12/100\n",
      "733/733 [==============================] - 0s 99us/step - loss: 0.6427 - acc: 0.6548 - val_loss: 0.8477 - val_acc: 0.5598\n",
      "Epoch 13/100\n",
      "733/733 [==============================] - 0s 100us/step - loss: 0.6309 - acc: 0.6589 - val_loss: 0.8441 - val_acc: 0.5707\n",
      "Epoch 14/100\n",
      "733/733 [==============================] - 0s 95us/step - loss: 0.6202 - acc: 0.6739 - val_loss: 0.8421 - val_acc: 0.5761\n",
      "Epoch 15/100\n",
      "733/733 [==============================] - 0s 96us/step - loss: 0.6097 - acc: 0.6835 - val_loss: 0.8404 - val_acc: 0.5761\n",
      "Epoch 16/100\n",
      "733/733 [==============================] - 0s 99us/step - loss: 0.5999 - acc: 0.6944 - val_loss: 0.8408 - val_acc: 0.5652\n",
      "Epoch 17/100\n",
      "733/733 [==============================] - 0s 96us/step - loss: 0.5920 - acc: 0.7026 - val_loss: 0.8417 - val_acc: 0.5598\n",
      "Epoch 18/100\n",
      "733/733 [==============================] - 0s 93us/step - loss: 0.5841 - acc: 0.7080 - val_loss: 0.8430 - val_acc: 0.5652\n",
      "Epoch 19/100\n",
      "733/733 [==============================] - 0s 97us/step - loss: 0.5621 - acc: 0.7067 - val_loss: 0.7718 - val_acc: 0.5761\n",
      "Epoch 20/100\n",
      "733/733 [==============================] - 0s 92us/step - loss: 0.5519 - acc: 0.7108 - val_loss: 0.7880 - val_acc: 0.5815\n",
      "Epoch 21/100\n",
      "733/733 [==============================] - 0s 97us/step - loss: 0.5466 - acc: 0.7149 - val_loss: 0.8520 - val_acc: 0.5870\n",
      "Epoch 22/100\n",
      "733/733 [==============================] - 0s 97us/step - loss: 0.5404 - acc: 0.7108 - val_loss: 0.8432 - val_acc: 0.5978\n",
      "Epoch 23/100\n",
      "733/733 [==============================] - 0s 94us/step - loss: 0.5360 - acc: 0.7108 - val_loss: 0.8438 - val_acc: 0.5978\n",
      "Epoch 24/100\n",
      "733/733 [==============================] - 0s 99us/step - loss: 0.5303 - acc: 0.7121 - val_loss: 0.8515 - val_acc: 0.5978\n",
      "Epoch 25/100\n",
      "733/733 [==============================] - 0s 99us/step - loss: 0.5255 - acc: 0.7190 - val_loss: 0.8544 - val_acc: 0.5924\n",
      "Epoch 26/100\n",
      "733/733 [==============================] - 0s 95us/step - loss: 0.5208 - acc: 0.7190 - val_loss: 0.8533 - val_acc: 0.6033\n",
      "Epoch 27/100\n",
      "733/733 [==============================] - 0s 97us/step - loss: 0.5171 - acc: 0.7190 - val_loss: 0.9170 - val_acc: 0.6033\n",
      "Epoch 28/100\n",
      "733/733 [==============================] - 0s 96us/step - loss: 0.5130 - acc: 0.7231 - val_loss: 0.9126 - val_acc: 0.6033\n",
      "Epoch 29/100\n",
      "733/733 [==============================] - 0s 93us/step - loss: 0.5092 - acc: 0.7299 - val_loss: 0.9147 - val_acc: 0.6087\n",
      "Epoch 30/100\n",
      "733/733 [==============================] - 0s 96us/step - loss: 0.5060 - acc: 0.7353 - val_loss: 0.9173 - val_acc: 0.6087\n",
      "Epoch 31/100\n",
      "733/733 [==============================] - 0s 100us/step - loss: 0.5023 - acc: 0.7312 - val_loss: 0.9162 - val_acc: 0.6196\n",
      "Epoch 32/100\n",
      "733/733 [==============================] - 0s 100us/step - loss: 0.4985 - acc: 0.7326 - val_loss: 0.9174 - val_acc: 0.6250\n",
      "Epoch 33/100\n",
      "733/733 [==============================] - 0s 95us/step - loss: 0.4958 - acc: 0.7422 - val_loss: 0.9189 - val_acc: 0.6196\n",
      "Epoch 34/100\n",
      "733/733 [==============================] - 0s 96us/step - loss: 0.4928 - acc: 0.7422 - val_loss: 0.9229 - val_acc: 0.6250\n",
      "Epoch 35/100\n",
      "733/733 [==============================] - 0s 97us/step - loss: 0.4900 - acc: 0.7435 - val_loss: 0.9185 - val_acc: 0.6250\n",
      "Epoch 36/100\n",
      "733/733 [==============================] - 0s 97us/step - loss: 0.4860 - acc: 0.7462 - val_loss: 0.9221 - val_acc: 0.6250\n",
      "Epoch 37/100\n",
      "733/733 [==============================] - 0s 93us/step - loss: 0.4830 - acc: 0.7490 - val_loss: 0.9262 - val_acc: 0.6196\n",
      "Epoch 38/100\n",
      "733/733 [==============================] - 0s 98us/step - loss: 0.4804 - acc: 0.7476 - val_loss: 0.9353 - val_acc: 0.6196\n",
      "Epoch 39/100\n",
      "733/733 [==============================] - 0s 94us/step - loss: 0.4768 - acc: 0.7558 - val_loss: 0.9269 - val_acc: 0.6196\n",
      "Epoch 40/100\n",
      "733/733 [==============================] - 0s 93us/step - loss: 0.4740 - acc: 0.7558 - val_loss: 0.9344 - val_acc: 0.6196\n",
      "Epoch 41/100\n",
      "733/733 [==============================] - 0s 94us/step - loss: 0.4714 - acc: 0.7544 - val_loss: 0.9365 - val_acc: 0.6196\n",
      "Epoch 42/100\n",
      "733/733 [==============================] - 0s 101us/step - loss: 0.4681 - acc: 0.7531 - val_loss: 1.0166 - val_acc: 0.6196\n",
      "Epoch 43/100\n",
      "733/733 [==============================] - 0s 102us/step - loss: 0.4654 - acc: 0.7490 - val_loss: 0.9431 - val_acc: 0.6141\n",
      "Epoch 44/100\n",
      "733/733 [==============================] - 0s 99us/step - loss: 0.4627 - acc: 0.7531 - val_loss: 1.0274 - val_acc: 0.6196\n",
      "Epoch 45/100\n",
      "733/733 [==============================] - 0s 101us/step - loss: 0.4593 - acc: 0.7544 - val_loss: 0.9645 - val_acc: 0.6141\n",
      "Epoch 46/100\n",
      "733/733 [==============================] - 0s 99us/step - loss: 0.4564 - acc: 0.7544 - val_loss: 1.0870 - val_acc: 0.6141\n",
      "Epoch 47/100\n",
      "733/733 [==============================] - 0s 100us/step - loss: 0.4550 - acc: 0.7585 - val_loss: 1.0954 - val_acc: 0.6087\n",
      "Epoch 48/100\n",
      "733/733 [==============================] - 0s 96us/step - loss: 0.4529 - acc: 0.7599 - val_loss: 0.9616 - val_acc: 0.6087\n",
      "Epoch 49/100\n",
      "733/733 [==============================] - 0s 99us/step - loss: 0.4485 - acc: 0.7572 - val_loss: 1.1652 - val_acc: 0.6033\n",
      "Epoch 50/100\n",
      "733/733 [==============================] - 0s 93us/step - loss: 0.4448 - acc: 0.7572 - val_loss: 1.1635 - val_acc: 0.6087\n",
      "Epoch 51/100\n",
      "733/733 [==============================] - 0s 102us/step - loss: 0.4412 - acc: 0.7653 - val_loss: 1.1630 - val_acc: 0.6087\n",
      "Epoch 52/100\n",
      "733/733 [==============================] - 0s 98us/step - loss: 0.4387 - acc: 0.7626 - val_loss: 1.1663 - val_acc: 0.6033\n",
      "Epoch 53/100\n",
      "733/733 [==============================] - 0s 102us/step - loss: 0.4351 - acc: 0.7640 - val_loss: 1.1791 - val_acc: 0.6033\n",
      "Epoch 54/100\n",
      "733/733 [==============================] - 0s 95us/step - loss: 0.4320 - acc: 0.7653 - val_loss: 1.1748 - val_acc: 0.6033\n",
      "Epoch 55/100\n",
      "733/733 [==============================] - 0s 95us/step - loss: 0.4289 - acc: 0.7653 - val_loss: 1.1383 - val_acc: 0.6033\n",
      "Epoch 56/100\n",
      "733/733 [==============================] - 0s 94us/step - loss: 0.4263 - acc: 0.7681 - val_loss: 1.1325 - val_acc: 0.6033\n",
      "Epoch 57/100\n",
      "733/733 [==============================] - 0s 98us/step - loss: 0.4229 - acc: 0.7640 - val_loss: 1.1538 - val_acc: 0.6087\n",
      "Epoch 58/100\n",
      "733/733 [==============================] - 0s 95us/step - loss: 0.4197 - acc: 0.7626 - val_loss: 1.1473 - val_acc: 0.5978\n",
      "Epoch 59/100\n",
      "733/733 [==============================] - 0s 93us/step - loss: 0.4156 - acc: 0.7640 - val_loss: 1.1503 - val_acc: 0.5978\n",
      "Epoch 60/100\n",
      "733/733 [==============================] - 0s 91us/step - loss: 0.4125 - acc: 0.7681 - val_loss: 1.1670 - val_acc: 0.6033\n",
      "Epoch 61/100\n",
      "733/733 [==============================] - 0s 87us/step - loss: 0.4103 - acc: 0.7653 - val_loss: 1.2919 - val_acc: 0.5924\n",
      "Epoch 62/100\n",
      "733/733 [==============================] - 0s 88us/step - loss: 0.4053 - acc: 0.7681 - val_loss: 1.3007 - val_acc: 0.5924\n",
      "Epoch 63/100\n",
      "733/733 [==============================] - 0s 91us/step - loss: 0.4030 - acc: 0.7640 - val_loss: 1.3860 - val_acc: 0.5924\n",
      "Epoch 64/100\n",
      "733/733 [==============================] - 0s 97us/step - loss: 0.3999 - acc: 0.7572 - val_loss: 1.4382 - val_acc: 0.5870\n",
      "Epoch 65/100\n",
      "733/733 [==============================] - 0s 98us/step - loss: 0.3958 - acc: 0.7613 - val_loss: 1.4578 - val_acc: 0.5870\n",
      "Epoch 66/100\n",
      "733/733 [==============================] - 0s 97us/step - loss: 0.3921 - acc: 0.7653 - val_loss: 1.5160 - val_acc: 0.5761\n",
      "Epoch 67/100\n",
      "733/733 [==============================] - 0s 98us/step - loss: 0.3888 - acc: 0.7613 - val_loss: 1.5243 - val_acc: 0.5870\n",
      "Epoch 68/100\n",
      "733/733 [==============================] - 0s 100us/step - loss: 0.3850 - acc: 0.7640 - val_loss: 1.6023 - val_acc: 0.5870\n",
      "Epoch 69/100\n",
      "733/733 [==============================] - 0s 94us/step - loss: 0.3807 - acc: 0.7681 - val_loss: 1.6212 - val_acc: 0.5761\n",
      "Epoch 70/100\n",
      "733/733 [==============================] - 0s 94us/step - loss: 0.3778 - acc: 0.7708 - val_loss: 1.7302 - val_acc: 0.5761\n",
      "Epoch 71/100\n",
      "733/733 [==============================] - 0s 95us/step - loss: 0.3740 - acc: 0.7722 - val_loss: 1.7264 - val_acc: 0.5761\n",
      "Epoch 72/100\n",
      "733/733 [==============================] - 0s 100us/step - loss: 0.3703 - acc: 0.7681 - val_loss: 1.7280 - val_acc: 0.5815\n",
      "Epoch 73/100\n",
      "733/733 [==============================] - 0s 95us/step - loss: 0.3664 - acc: 0.7708 - val_loss: 1.7570 - val_acc: 0.5598\n",
      "Epoch 74/100\n",
      "733/733 [==============================] - 0s 96us/step - loss: 0.3648 - acc: 0.7804 - val_loss: 1.7412 - val_acc: 0.5761\n",
      "Epoch 75/100\n",
      "733/733 [==============================] - 0s 94us/step - loss: 0.3601 - acc: 0.7763 - val_loss: 1.9311 - val_acc: 0.5761\n",
      "Epoch 76/100\n",
      "733/733 [==============================] - 0s 90us/step - loss: 0.3558 - acc: 0.7804 - val_loss: 1.8841 - val_acc: 0.5652\n",
      "Epoch 77/100\n",
      "733/733 [==============================] - 0s 97us/step - loss: 0.3524 - acc: 0.7790 - val_loss: 2.0036 - val_acc: 0.5707\n",
      "Epoch 78/100\n",
      "733/733 [==============================] - 0s 95us/step - loss: 0.3498 - acc: 0.7804 - val_loss: 1.9443 - val_acc: 0.5707\n",
      "Epoch 79/100\n",
      "733/733 [==============================] - 0s 89us/step - loss: 0.3452 - acc: 0.7858 - val_loss: 2.0081 - val_acc: 0.5707\n",
      "Epoch 80/100\n",
      "733/733 [==============================] - 0s 92us/step - loss: 0.3431 - acc: 0.7817 - val_loss: 1.9558 - val_acc: 0.5761\n",
      "Epoch 81/100\n",
      "733/733 [==============================] - 0s 90us/step - loss: 0.3385 - acc: 0.7899 - val_loss: 2.0267 - val_acc: 0.5652\n",
      "Epoch 82/100\n",
      "733/733 [==============================] - 0s 98us/step - loss: 0.3365 - acc: 0.7831 - val_loss: 2.0297 - val_acc: 0.5543\n",
      "Epoch 83/100\n",
      "733/733 [==============================] - 0s 94us/step - loss: 0.3328 - acc: 0.7885 - val_loss: 2.0872 - val_acc: 0.5652\n",
      "Epoch 84/100\n",
      "733/733 [==============================] - 0s 90us/step - loss: 0.3307 - acc: 0.7844 - val_loss: 2.0880 - val_acc: 0.5489\n",
      "Epoch 85/100\n",
      "733/733 [==============================] - 0s 102us/step - loss: 0.3281 - acc: 0.7913 - val_loss: 2.0920 - val_acc: 0.5598\n",
      "Epoch 86/100\n",
      "733/733 [==============================] - 0s 96us/step - loss: 0.3250 - acc: 0.7913 - val_loss: 2.0943 - val_acc: 0.5435\n",
      "Epoch 87/100\n",
      "733/733 [==============================] - 0s 101us/step - loss: 0.3212 - acc: 0.7844 - val_loss: 2.1003 - val_acc: 0.5435\n",
      "Epoch 88/100\n",
      "733/733 [==============================] - 0s 100us/step - loss: 0.3185 - acc: 0.7858 - val_loss: 2.1003 - val_acc: 0.5489\n",
      "Epoch 89/100\n",
      "733/733 [==============================] - 0s 101us/step - loss: 0.3163 - acc: 0.7858 - val_loss: 2.0453 - val_acc: 0.5435\n",
      "Epoch 90/100\n",
      "733/733 [==============================] - 0s 96us/step - loss: 0.3140 - acc: 0.7858 - val_loss: 2.0506 - val_acc: 0.5435\n",
      "Epoch 91/100\n",
      "733/733 [==============================] - 0s 99us/step - loss: 0.3107 - acc: 0.7872 - val_loss: 2.1108 - val_acc: 0.5435\n",
      "Epoch 92/100\n",
      "733/733 [==============================] - 0s 100us/step - loss: 0.3084 - acc: 0.7899 - val_loss: 2.0598 - val_acc: 0.5326\n",
      "Epoch 93/100\n",
      "733/733 [==============================] - 0s 98us/step - loss: 0.3063 - acc: 0.7913 - val_loss: 2.0544 - val_acc: 0.5380\n",
      "Epoch 94/100\n",
      "733/733 [==============================] - 0s 95us/step - loss: 0.3037 - acc: 0.7981 - val_loss: 2.1274 - val_acc: 0.5489\n",
      "Epoch 95/100\n",
      "733/733 [==============================] - 0s 99us/step - loss: 0.3010 - acc: 0.7967 - val_loss: 2.0803 - val_acc: 0.5380\n",
      "Epoch 96/100\n",
      "733/733 [==============================] - 0s 98us/step - loss: 0.2968 - acc: 0.7899 - val_loss: 2.2056 - val_acc: 0.5435\n",
      "Epoch 97/100\n",
      "733/733 [==============================] - 0s 97us/step - loss: 0.2946 - acc: 0.7926 - val_loss: 2.1702 - val_acc: 0.5326\n",
      "Epoch 98/100\n",
      "733/733 [==============================] - 0s 101us/step - loss: 0.2912 - acc: 0.7940 - val_loss: 2.1523 - val_acc: 0.5272\n",
      "Epoch 99/100\n",
      "733/733 [==============================] - 0s 99us/step - loss: 0.2874 - acc: 0.7913 - val_loss: 2.2225 - val_acc: 0.5326\n",
      "Epoch 100/100\n",
      "733/733 [==============================] - 0s 97us/step - loss: 0.2859 - acc: 0.7872 - val_loss: 2.2189 - val_acc: 0.5272\n"
     ]
    }
   ],
   "source": [
    "history = model.fit(X_train, y_train, validation_split=0.2, epochs=100)"
   ]
  },
  {
   "cell_type": "code",
   "execution_count": 50,
   "metadata": {},
   "outputs": [
    {
     "data": {
      "image/png": "[encoded data removed]",
      "text/plain": [
       "<Figure size 432x288 with 1 Axes>"
      ]
     },
     "metadata": {
      "needs_background": "light"
     },
     "output_type": "display_data"
    }
   ],
   "source": [
    "import matplotlib.pyplot as plt\n",
    "\n",
    "training_error = history.history['acc'] # training error\n",
    "val_error = history.history['loss'] # validation error\n",
    "\n",
    "plt.plot(training_error)\n",
    "plt.plot(val_error)\n",
    "plt.title('acc and loss')\n",
    "plt.legend(['acc', 'loss'], loc='upper right')\n",
    "plt.ylim(0, 1)\n",
    "plt.xlabel('epoch')\n",
    "\n",
    "plt.show()"
   ]
  },
  {
   "cell_type": "code",
   "execution_count": 51,
   "metadata": {},
   "outputs": [
    {
     "name": "stdout",
     "output_type": "stream",
     "text": [
      "917/917 [==============================] - 0s 26us/step\n",
      "train_acc: 0.7437295535398544\n"
     ]
    }
   ],
   "source": [
    "score = model.evaluate(X_train, y_train)\n",
    "print('train_acc: {}'.format(score[1]))"
   ]
  },
  {
   "cell_type": "code",
   "execution_count": 52,
   "metadata": {},
   "outputs": [
    {
     "name": "stdout",
     "output_type": "stream",
     "text": [
      "394/394 [==============================] - 0s 28us/step\n",
      "test_acc: 0.586294416281475\n"
     ]
    }
   ],
   "source": [
    "score = model.evaluate(X_test, y_test)\n",
    "print('test_acc: {}'.format(score[1]))"
   ]
  },
  {
   "cell_type": "markdown",
   "metadata": {},
   "source": [
    "### Conventional approach"
   ]
  },
  {
   "cell_type": "markdown",
   "metadata": {},
   "source": [
    "https://towardsdatascience.com/building-my-first-machine-learning-model-nba-prediction-algorithm-dee5c5bc4cc1"
   ]
  },
  {
   "cell_type": "code",
   "execution_count": 53,
   "metadata": {},
   "outputs": [
    {
     "data": {
      "text/plain": [
       "0.7030456852791879"
      ]
     },
     "execution_count": 53,
     "metadata": {},
     "output_type": "execute_result"
    }
   ],
   "source": [
    "from sklearn import tree\n",
    "clf = tree.DecisionTreeClassifier(criterion='entropy', max_depth=4, random_state=0)\n",
    "clf.fit(X_train, y_train)\n",
    "clf.score(X_test,y_test)"
   ]
  },
  {
   "cell_type": "code",
   "execution_count": 54,
   "metadata": {},
   "outputs": [
    {
     "data": {
      "text/plain": [
       "0.6979695431472082"
      ]
     },
     "execution_count": 54,
     "metadata": {},
     "output_type": "execute_result"
    }
   ],
   "source": [
    "# LinearSVC classification \n",
    "from sklearn.svm import LinearSVC\n",
    "lclf = LinearSVC(random_state=0, tol=1e-5, max_iter=1000)\n",
    "lclf.fit(X_train, y_train)\n",
    "lclf.score(X_test,y_test)"
   ]
  },
  {
   "cell_type": "code",
   "execution_count": 55,
   "metadata": {},
   "outputs": [
    {
     "data": {
      "text/plain": [
       "0.6675126903553299"
      ]
     },
     "execution_count": 55,
     "metadata": {},
     "output_type": "execute_result"
    }
   ],
   "source": [
    "# KNN model attempt \n",
    "from sklearn.neighbors import KNeighborsClassifier\n",
    "from sklearn import preprocessing\n",
    "knn = KNeighborsClassifier(n_neighbors=10)\n",
    "knn.fit(X_train, y_train)\n",
    "knn.score(X_test, y_test)"
   ]
  },
  {
   "cell_type": "code",
   "execution_count": 56,
   "metadata": {},
   "outputs": [
    {
     "data": {
      "text/plain": [
       "0.7055837563451777"
      ]
     },
     "execution_count": 56,
     "metadata": {},
     "output_type": "execute_result"
    }
   ],
   "source": [
    "# SVC prediction model attempt \n",
    "from sklearn.svm import SVC\n",
    "from sklearn import svm\n",
    "clf = SVC(gamma='scale',probability=True)\n",
    "clf.fit(X_train, y_train)\n",
    "clf.score(X_test,y_test)"
   ]
  },
  {
   "cell_type": "code",
   "execution_count": 57,
   "metadata": {},
   "outputs": [
    {
     "data": {
      "text/plain": [
       "0.7030456852791879"
      ]
     },
     "execution_count": 57,
     "metadata": {},
     "output_type": "execute_result"
    }
   ],
   "source": [
    "#BaggingSVC Ensemble classification \n",
    "from sklearn.svm import SVC\n",
    "from sklearn.ensemble import BaggingClassifier\n",
    "advclf = BaggingClassifier(base_estimator=SVC(gamma='scale'), n_estimators=10, random_state=0)\n",
    "advclf.fit(X_train, y_train)\n",
    "advclf.score(X_test,y_test)"
   ]
  },
  {
   "cell_type": "code",
   "execution_count": 58,
   "metadata": {
    "scrolled": true
   },
   "outputs": [
    {
     "data": {
      "text/plain": [
       "0.7182741116751269"
      ]
     },
     "execution_count": 58,
     "metadata": {},
     "output_type": "execute_result"
    }
   ],
   "source": [
    "# Random Forest Classification model\n",
    "from sklearn.ensemble import RandomForestClassifier\n",
    "rdf = RandomForestClassifier(max_depth=8, random_state=0, n_estimators=300)\n",
    "rdf.fit(X_train, y_train)\n",
    "rdf.score(X_test,y_test)"
   ]
  },
  {
   "cell_type": "markdown",
   "metadata": {},
   "source": [
    "### References  \n",
    "https://hub.packtpub.com/predicting-sports-winners-decision-trees-and-pandas/, Ch.3"
   ]
  }
 ],
 "metadata": {
  "kernelspec": {
   "display_name": "Python 3",
   "language": "python",
   "name": "python3"
  },
  "language_info": {
   "codemirror_mode": {
    "name": "ipython",
    "version": 3
   },
   "file_extension": ".py",
   "mimetype": "text/x-python",
   "name": "python",
   "nbconvert_exporter": "python",
   "pygments_lexer": "ipython3",
   "version": "3.6.8"
  }
 },
 "nbformat": 4,
 "nbformat_minor": 4
}
