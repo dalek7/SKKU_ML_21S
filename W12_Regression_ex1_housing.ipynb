{
 "cells": [
  {
   "cell_type": "markdown",
   "metadata": {},
   "source": [
    "# Regression with Keras (Deep Learning with Keras)"
   ]
  },
  {
   "cell_type": "markdown",
   "metadata": {},
   "source": [
    "## Regression\n",
    "Regression is a process where a model learns to predict a continuous value output for a given input data,   \n",
    "  e.g. predict price, length, width, etc."
   ]
  },
  {
   "cell_type": "markdown",
   "metadata": {},
   "source": [
    "## Problem Definition\n",
    "Our objective is to **build prediction model that predicts housing prices from a set of house features.**  \n",
    "We will use the Boston Housing dataset, which is collected by the U.S Census Service concerning housing in the area of Boston Mass.     \n",
    "The dataset is small in size with only 506 cases."
   ]
  },
  {
   "cell_type": "markdown",
   "metadata": {},
   "source": [
    "It contains 14 features described as follows: \n",
    "* CRIM: per capita crime rate by town\n",
    "* ZN: proportion of residential land zoned for lots over 25,000 sq.ft.\n",
    "* INDUS: proportion of non-retail business acres per town.\n",
    "* CHAS: Charles River dummy variable (1 if tract bounds river; 0 otherwise)\n",
    "* NOX: nitric oxides concentration (parts per 10 million)\n",
    "* RM: average number of rooms per dwelling\n",
    "* AGE: proportion of owner-occupied units built prior to 1940\n",
    "* DIS: weighted distances to five Boston employment centres\n",
    "* RAD: index of accessibility to radial highways\n",
    "* TAX: full-value property-tax rate per $10,000  \n",
    "\n",
    "* PTRATIO: pupil-teacher ratio by town\n",
    "* B: 1000(Bk — 0.63)² where Bk is the proportion of blacks by town\n",
    "* LSTAT: % lower status of the population\n",
    "* MEDV: Median value of owner-occupied homes in $1000’s"
   ]
  },
  {
   "cell_type": "markdown",
   "metadata": {},
   "source": [
    "### **The goal behind our regression problem is to use the 13 features to predict the value of MEDV (which represents the housing price).**"
   ]
  },
  {
   "cell_type": "markdown",
   "metadata": {},
   "source": [
    "## Loading the Data"
   ]
  },
  {
   "cell_type": "markdown",
   "metadata": {},
   "source": [
    "* Keras has a set of datasets already available. You can access them from *keras.dataset*."
   ]
  },
  {
   "cell_type": "code",
   "execution_count": 1,
   "metadata": {
    "scrolled": true
   },
   "outputs": [],
   "source": [
    "from keras.datasets import boston_housing"
   ]
  },
  {
   "cell_type": "code",
   "execution_count": 2,
   "metadata": {
    "scrolled": false
   },
   "outputs": [
    {
     "name": "stdout",
     "output_type": "stream",
     "text": [
      "[  1.23247   0.        8.14      0.        0.538     6.142    91.7\n",
      "   3.9769    4.      307.       21.      396.9      18.72   ] 15.2\n"
     ]
    }
   ],
   "source": [
    "(X_train, y_train), (X_test, y_test) = boston_housing.load_data()\n",
    "\n",
    "# let us view on sample from the features\n",
    "print(X_train[0], y_train[0])\n",
    "#print(X_test[0], y_test[0])"
   ]
  },
  {
   "cell_type": "markdown",
   "metadata": {},
   "source": [
    "The data is returned as two tuples representing the training and testing splits.  \n",
    "The X_train and X_test contain the feature columns, while the y_train and y_test contain the label/output column."
   ]
  },
  {
   "cell_type": "markdown",
   "metadata": {},
   "source": [
    "## Preprocessing\n",
    "* Our data needs to be rescaled. Time for our buddy (StandarScaler) from the scikit-learn package."
   ]
  },
  {
   "cell_type": "markdown",
   "metadata": {},
   "source": [
    "**StandardScaler**  \n",
    "* Change the mean of each feature to 0, and the variance to 1.  \n",
    "* All properties will have the same scale."
   ]
  },
  {
   "cell_type": "code",
   "execution_count": 3,
   "metadata": {},
   "outputs": [],
   "source": [
    "from sklearn.preprocessing import StandardScaler\n",
    "scaler = StandardScaler()"
   ]
  },
  {
   "cell_type": "code",
   "execution_count": 4,
   "metadata": {},
   "outputs": [
    {
     "data": {
      "text/plain": [
       "StandardScaler()"
      ]
     },
     "execution_count": 4,
     "metadata": {},
     "output_type": "execute_result"
    }
   ],
   "source": [
    "# first we fit the scaler on the training dataset\n",
    "scaler.fit(X_train)"
   ]
  },
  {
   "cell_type": "code",
   "execution_count": 5,
   "metadata": {},
   "outputs": [],
   "source": [
    "# then we call the transform method to scale both the training and testing data\n",
    "X_train_scaled = scaler.transform(X_train)\n",
    "X_test_scaled = scaler.transform(X_test)"
   ]
  },
  {
   "cell_type": "code",
   "execution_count": 6,
   "metadata": {},
   "outputs": [
    {
     "name": "stdout",
     "output_type": "stream",
     "text": [
      "[-0.27224633 -0.48361547 -0.43576161 -0.25683275 -0.1652266  -0.1764426\n",
      "  0.81306188  0.1166983  -0.62624905 -0.59517003  1.14850044  0.44807713\n",
      "  0.8252202 ]\n"
     ]
    }
   ],
   "source": [
    "# a sample output\n",
    "print(X_train_scaled[0])"
   ]
  },
  {
   "cell_type": "code",
   "execution_count": 7,
   "metadata": {},
   "outputs": [
    {
     "data": {
      "text/plain": [
       "(404, 13)"
      ]
     },
     "execution_count": 7,
     "metadata": {},
     "output_type": "execute_result"
    }
   ],
   "source": [
    "X_train_scaled.shape"
   ]
  },
  {
   "cell_type": "markdown",
   "metadata": {},
   "source": [
    "Note that we only rescale the features and not the label column.  \n",
    "This dataset is simple and no further preprocessing is needed."
   ]
  },
  {
   "cell_type": "markdown",
   "metadata": {},
   "source": [
    "## Building the Model\n",
    "* We will build the model layer by layer in a sequential manner.  \n",
    "To do so we have to **import 1) the model class 2) and the layer class**"
   ]
  },
  {
   "cell_type": "code",
   "execution_count": 8,
   "metadata": {},
   "outputs": [],
   "source": [
    "from keras import models, layers"
   ]
  },
  {
   "cell_type": "markdown",
   "metadata": {},
   "source": [
    "Then, we create the model:"
   ]
  },
  {
   "cell_type": "code",
   "execution_count": 9,
   "metadata": {},
   "outputs": [],
   "source": [
    "model = models.Sequential()"
   ]
  },
  {
   "cell_type": "markdown",
   "metadata": {},
   "source": [
    "And we start adding the layers:"
   ]
  },
  {
   "cell_type": "code",
   "execution_count": 10,
   "metadata": {},
   "outputs": [
    {
     "data": {
      "text/plain": [
       "13"
      ]
     },
     "execution_count": 10,
     "metadata": {},
     "output_type": "execute_result"
    }
   ],
   "source": [
    "X_train.shape[1]"
   ]
  },
  {
   "cell_type": "code",
   "execution_count": 11,
   "metadata": {},
   "outputs": [],
   "source": [
    "# adding the layers\n",
    "model.add(layers.Dense(8, activation='relu', input_shape=[X_train.shape[1]]))\n",
    "model.add(layers.Dense(16, activation='relu'))"
   ]
  },
  {
   "cell_type": "markdown",
   "metadata": {},
   "source": [
    "Notice that we only specify the input shape for the first layer, all layers later will know automatically their input shape from the previous one.  \n",
    "**The activation parameter here specifies the function we want to perform on top of the layer to calculate the output = activation(X * W + bias).**  \n",
    "Relu is a activation function that is used to break the linearity of the model."
   ]
  },
  {
   "cell_type": "code",
   "execution_count": 12,
   "metadata": {},
   "outputs": [],
   "source": [
    "# output layer\n",
    "model.add(layers.Dense(1))"
   ]
  },
  {
   "cell_type": "markdown",
   "metadata": {},
   "source": [
    "The output layer is simply a layer with one neuron and linear activation function since we are predicting only one continuous value."
   ]
  },
  {
   "cell_type": "code",
   "execution_count": 13,
   "metadata": {
    "scrolled": false
   },
   "outputs": [
    {
     "name": "stdout",
     "output_type": "stream",
     "text": [
      "Model: \"sequential\"\n",
      "_________________________________________________________________\n",
      "Layer (type)                 Output Shape              Param #   \n",
      "=================================================================\n",
      "dense (Dense)                (None, 8)                 112       \n",
      "_________________________________________________________________\n",
      "dense_1 (Dense)              (None, 16)                144       \n",
      "_________________________________________________________________\n",
      "dense_2 (Dense)              (None, 1)                 17        \n",
      "=================================================================\n",
      "Total params: 273\n",
      "Trainable params: 273\n",
      "Non-trainable params: 0\n",
      "_________________________________________________________________\n"
     ]
    }
   ],
   "source": [
    "model.summary()"
   ]
  },
  {
   "cell_type": "markdown",
   "metadata": {},
   "source": [
    "## Compiling the Model\n",
    "* After building the network we need to specify two important things: **1) the optimizer and 2) the loss function.**\n",
    "* The optimizer is responsible for navigating the space to choose the best model parameters, while the loss function is used by the optimizer to know how to move in the search space."
   ]
  },
  {
   "cell_type": "code",
   "execution_count": 14,
   "metadata": {},
   "outputs": [],
   "source": [
    "model.compile(optimizer='rmsprop', loss='mse', metrics=['mae'])"
   ]
  },
  {
   "cell_type": "markdown",
   "metadata": {},
   "source": [
    "1) optimizer : RMSprop works fine with its default parameters.  \n",
    "\n",
    "2) loss function : Mean Squared Error  \n",
    "    (the average squared error a point is from the mean value)  \n",
    "    \n",
    "3) metrics : Mean Absolute Error  \n",
    "    (Regression Indicators, Absolute value of the difference between the actual value and the measured value,  \n",
    "    In other words, how wrong the model is in prediction.)"
   ]
  },
  {
   "cell_type": "markdown",
   "metadata": {},
   "source": [
    "## Model Training\n",
    "* we just have to call the fit method to start training.\n",
    "    * validation_split : the validation split indicates that the model has to keep 20% of the data as a validation set\n",
    "    * epochs : the number of iterations on the data."
   ]
  },
  {
   "cell_type": "code",
   "execution_count": 15,
   "metadata": {},
   "outputs": [
    {
     "name": "stdout",
     "output_type": "stream",
     "text": [
      "Epoch 1/100\n",
      "11/11 [==============================] - 0s 6ms/step - loss: 565.0212 - mae: 21.8325 - val_loss: 624.7561 - val_mae: 23.1973\n",
      "Epoch 2/100\n",
      "11/11 [==============================] - 0s 1ms/step - loss: 549.6344 - mae: 21.5287 - val_loss: 610.9771 - val_mae: 22.9406\n",
      "Epoch 3/100\n",
      "11/11 [==============================] - 0s 961us/step - loss: 537.2485 - mae: 21.2825 - val_loss: 597.1677 - val_mae: 22.6825\n",
      "Epoch 4/100\n",
      "11/11 [==============================] - 0s 926us/step - loss: 524.7267 - mae: 21.0289 - val_loss: 582.7738 - val_mae: 22.4080\n",
      "Epoch 5/100\n",
      "11/11 [==============================] - 0s 943us/step - loss: 511.8459 - mae: 20.7557 - val_loss: 568.0921 - val_mae: 22.1225\n",
      "Epoch 6/100\n",
      "11/11 [==============================] - 0s 952us/step - loss: 498.3824 - mae: 20.4734 - val_loss: 551.0344 - val_mae: 21.7893\n",
      "Epoch 7/100\n",
      "11/11 [==============================] - 0s 937us/step - loss: 483.5116 - mae: 20.1565 - val_loss: 534.4880 - val_mae: 21.4570\n",
      "Epoch 8/100\n",
      "11/11 [==============================] - 0s 916us/step - loss: 468.3332 - mae: 19.8273 - val_loss: 515.2676 - val_mae: 21.0695\n",
      "Epoch 9/100\n",
      "11/11 [==============================] - 0s 935us/step - loss: 451.6445 - mae: 19.4600 - val_loss: 497.1780 - val_mae: 20.6872\n",
      "Epoch 10/100\n",
      "11/11 [==============================] - 0s 936us/step - loss: 434.9601 - mae: 19.0782 - val_loss: 478.7069 - val_mae: 20.2868\n",
      "Epoch 11/100\n",
      "11/11 [==============================] - 0s 939us/step - loss: 417.8375 - mae: 18.6792 - val_loss: 457.8913 - val_mae: 19.8248\n",
      "Epoch 12/100\n",
      "11/11 [==============================] - 0s 960us/step - loss: 398.8334 - mae: 18.2223 - val_loss: 436.8135 - val_mae: 19.3429\n",
      "Epoch 13/100\n",
      "11/11 [==============================] - 0s 958us/step - loss: 379.2896 - mae: 17.7402 - val_loss: 414.4761 - val_mae: 18.8125\n",
      "Epoch 14/100\n",
      "11/11 [==============================] - 0s 954us/step - loss: 358.2952 - mae: 17.2154 - val_loss: 391.2060 - val_mae: 18.2414\n",
      "Epoch 15/100\n",
      "11/11 [==============================] - 0s 996us/step - loss: 336.7413 - mae: 16.6442 - val_loss: 368.7086 - val_mae: 17.6657\n",
      "Epoch 16/100\n",
      "11/11 [==============================] - 0s 953us/step - loss: 314.9887 - mae: 16.0587 - val_loss: 342.9438 - val_mae: 16.9856\n",
      "Epoch 17/100\n",
      "11/11 [==============================] - 0s 966us/step - loss: 291.5409 - mae: 15.4043 - val_loss: 317.7768 - val_mae: 16.2839\n",
      "Epoch 18/100\n",
      "11/11 [==============================] - 0s 980us/step - loss: 268.2885 - mae: 14.7023 - val_loss: 291.6064 - val_mae: 15.5215\n",
      "Epoch 19/100\n",
      "11/11 [==============================] - 0s 1ms/step - loss: 243.8774 - mae: 13.9631 - val_loss: 267.0179 - val_mae: 14.7583\n",
      "Epoch 20/100\n",
      "11/11 [==============================] - 0s 955us/step - loss: 220.8585 - mae: 13.2063 - val_loss: 240.9828 - val_mae: 13.9052\n",
      "Epoch 21/100\n",
      "11/11 [==============================] - 0s 978us/step - loss: 197.3253 - mae: 12.3930 - val_loss: 217.6290 - val_mae: 13.0768\n",
      "Epoch 22/100\n",
      "11/11 [==============================] - 0s 947us/step - loss: 175.2441 - mae: 11.5739 - val_loss: 192.8208 - val_mae: 12.1268\n",
      "Epoch 23/100\n",
      "11/11 [==============================] - 0s 951us/step - loss: 152.8587 - mae: 10.6724 - val_loss: 169.0333 - val_mae: 11.1371\n",
      "Epoch 24/100\n",
      "11/11 [==============================] - 0s 924us/step - loss: 131.5858 - mae: 9.7335 - val_loss: 146.8672 - val_mae: 10.1254\n",
      "Epoch 25/100\n",
      "11/11 [==============================] - 0s 941us/step - loss: 112.2475 - mae: 8.7964 - val_loss: 128.0352 - val_mae: 9.1410\n",
      "Epoch 26/100\n",
      "11/11 [==============================] - 0s 942us/step - loss: 95.4720 - mae: 7.8704 - val_loss: 110.3518 - val_mae: 8.0839\n",
      "Epoch 27/100\n",
      "11/11 [==============================] - 0s 956us/step - loss: 80.6051 - mae: 6.9455 - val_loss: 95.2931 - val_mae: 7.1054\n",
      "Epoch 28/100\n",
      "11/11 [==============================] - 0s 955us/step - loss: 68.1598 - mae: 6.0762 - val_loss: 81.5071 - val_mae: 6.3227\n",
      "Epoch 29/100\n",
      "11/11 [==============================] - 0s 989us/step - loss: 58.1753 - mae: 5.3647 - val_loss: 73.5672 - val_mae: 5.8813\n",
      "Epoch 30/100\n",
      "11/11 [==============================] - 0s 990us/step - loss: 52.1606 - mae: 4.9715 - val_loss: 67.2567 - val_mae: 5.5191\n",
      "Epoch 31/100\n",
      "11/11 [==============================] - 0s 1ms/step - loss: 47.7853 - mae: 4.7312 - val_loss: 61.1975 - val_mae: 5.1883\n",
      "Epoch 32/100\n",
      "11/11 [==============================] - 0s 996us/step - loss: 44.3639 - mae: 4.5535 - val_loss: 57.9728 - val_mae: 5.0829\n",
      "Epoch 33/100\n",
      "11/11 [==============================] - 0s 1ms/step - loss: 42.6638 - mae: 4.4758 - val_loss: 55.6158 - val_mae: 4.9822\n",
      "Epoch 34/100\n",
      "11/11 [==============================] - 0s 968us/step - loss: 41.3792 - mae: 4.3911 - val_loss: 52.6567 - val_mae: 4.8330\n",
      "Epoch 35/100\n",
      "11/11 [==============================] - 0s 948us/step - loss: 40.0608 - mae: 4.3093 - val_loss: 49.8910 - val_mae: 4.7186\n",
      "Epoch 36/100\n",
      "11/11 [==============================] - 0s 994us/step - loss: 38.8390 - mae: 4.2341 - val_loss: 47.3579 - val_mae: 4.6101\n",
      "Epoch 37/100\n",
      "11/11 [==============================] - 0s 979us/step - loss: 37.8263 - mae: 4.1713 - val_loss: 45.6748 - val_mae: 4.5094\n",
      "Epoch 38/100\n",
      "11/11 [==============================] - 0s 1ms/step - loss: 36.9707 - mae: 4.1011 - val_loss: 44.4151 - val_mae: 4.4567\n",
      "Epoch 39/100\n",
      "11/11 [==============================] - 0s 1ms/step - loss: 36.2300 - mae: 4.0535 - val_loss: 42.6599 - val_mae: 4.3574\n",
      "Epoch 40/100\n",
      "11/11 [==============================] - 0s 1ms/step - loss: 35.4887 - mae: 4.0106 - val_loss: 41.0919 - val_mae: 4.2968\n",
      "Epoch 41/100\n",
      "11/11 [==============================] - 0s 1ms/step - loss: 34.8142 - mae: 3.9737 - val_loss: 39.7874 - val_mae: 4.2347\n",
      "Epoch 42/100\n",
      "11/11 [==============================] - 0s 1ms/step - loss: 34.1327 - mae: 3.9457 - val_loss: 39.1078 - val_mae: 4.1901\n",
      "Epoch 43/100\n",
      "11/11 [==============================] - 0s 1ms/step - loss: 33.6487 - mae: 3.8971 - val_loss: 38.0094 - val_mae: 4.1309\n",
      "Epoch 44/100\n",
      "11/11 [==============================] - 0s 1ms/step - loss: 32.8855 - mae: 3.8525 - val_loss: 37.1202 - val_mae: 4.0645\n",
      "Epoch 45/100\n",
      "11/11 [==============================] - 0s 1ms/step - loss: 32.3001 - mae: 3.8098 - val_loss: 35.9623 - val_mae: 4.0167\n",
      "Epoch 46/100\n",
      "11/11 [==============================] - 0s 973us/step - loss: 31.7303 - mae: 3.7787 - val_loss: 35.0277 - val_mae: 3.9542\n",
      "Epoch 47/100\n",
      "11/11 [==============================] - 0s 985us/step - loss: 31.1261 - mae: 3.7356 - val_loss: 34.2283 - val_mae: 3.8987\n",
      "Epoch 48/100\n",
      "11/11 [==============================] - 0s 1ms/step - loss: 30.5492 - mae: 3.6754 - val_loss: 33.4763 - val_mae: 3.8691\n",
      "Epoch 49/100\n",
      "11/11 [==============================] - 0s 1ms/step - loss: 30.1584 - mae: 3.6667 - val_loss: 32.5771 - val_mae: 3.8045\n",
      "Epoch 50/100\n",
      "11/11 [==============================] - 0s 1ms/step - loss: 29.6076 - mae: 3.6260 - val_loss: 31.7950 - val_mae: 3.7615\n",
      "Epoch 51/100\n",
      "11/11 [==============================] - 0s 1ms/step - loss: 29.1911 - mae: 3.5989 - val_loss: 31.0245 - val_mae: 3.7178\n",
      "Epoch 52/100\n",
      "11/11 [==============================] - 0s 1ms/step - loss: 28.7387 - mae: 3.5602 - val_loss: 29.9421 - val_mae: 3.6704\n",
      "Epoch 53/100\n",
      "11/11 [==============================] - 0s 988us/step - loss: 28.1550 - mae: 3.5418 - val_loss: 29.2819 - val_mae: 3.6319\n",
      "Epoch 54/100\n",
      "11/11 [==============================] - 0s 991us/step - loss: 27.7318 - mae: 3.5225 - val_loss: 28.8827 - val_mae: 3.6092\n",
      "Epoch 55/100\n",
      "11/11 [==============================] - 0s 996us/step - loss: 27.4132 - mae: 3.4759 - val_loss: 28.1600 - val_mae: 3.6142\n",
      "Epoch 56/100\n",
      "11/11 [==============================] - 0s 1ms/step - loss: 26.8801 - mae: 3.4738 - val_loss: 27.5740 - val_mae: 3.5443\n",
      "Epoch 57/100\n",
      "11/11 [==============================] - 0s 1ms/step - loss: 26.4192 - mae: 3.4047 - val_loss: 26.7179 - val_mae: 3.5194\n",
      "Epoch 58/100\n",
      "11/11 [==============================] - 0s 1ms/step - loss: 26.1435 - mae: 3.4175 - val_loss: 25.9119 - val_mae: 3.4535\n",
      "Epoch 59/100\n",
      "11/11 [==============================] - 0s 1ms/step - loss: 25.7047 - mae: 3.3704 - val_loss: 25.5200 - val_mae: 3.4337\n",
      "Epoch 60/100\n",
      "11/11 [==============================] - 0s 1ms/step - loss: 25.3177 - mae: 3.3398 - val_loss: 24.9358 - val_mae: 3.4094\n",
      "Epoch 61/100\n",
      "11/11 [==============================] - 0s 1ms/step - loss: 24.9953 - mae: 3.3164 - val_loss: 24.7828 - val_mae: 3.3974\n",
      "Epoch 62/100\n",
      "11/11 [==============================] - 0s 1ms/step - loss: 24.5269 - mae: 3.2927 - val_loss: 23.8711 - val_mae: 3.3282\n",
      "Epoch 63/100\n",
      "11/11 [==============================] - 0s 1ms/step - loss: 24.1083 - mae: 3.2644 - val_loss: 22.9581 - val_mae: 3.2751\n",
      "Epoch 64/100\n",
      "11/11 [==============================] - 0s 1ms/step - loss: 23.7683 - mae: 3.2561 - val_loss: 22.2403 - val_mae: 3.2319\n",
      "Epoch 65/100\n",
      "11/11 [==============================] - 0s 1ms/step - loss: 23.2993 - mae: 3.2208 - val_loss: 21.7330 - val_mae: 3.2058\n",
      "Epoch 66/100\n",
      "11/11 [==============================] - 0s 965us/step - loss: 22.8429 - mae: 3.1882 - val_loss: 21.2555 - val_mae: 3.1916\n",
      "Epoch 67/100\n",
      "11/11 [==============================] - 0s 997us/step - loss: 22.4280 - mae: 3.1742 - val_loss: 20.9150 - val_mae: 3.1837\n",
      "Epoch 68/100\n",
      "11/11 [==============================] - 0s 1ms/step - loss: 22.1172 - mae: 3.1418 - val_loss: 20.5587 - val_mae: 3.1638\n",
      "Epoch 69/100\n",
      "11/11 [==============================] - 0s 998us/step - loss: 21.8396 - mae: 3.1061 - val_loss: 20.2654 - val_mae: 3.1566\n",
      "Epoch 70/100\n",
      "11/11 [==============================] - 0s 994us/step - loss: 21.5376 - mae: 3.0826 - val_loss: 19.5082 - val_mae: 3.0926\n",
      "Epoch 71/100\n",
      "11/11 [==============================] - 0s 1ms/step - loss: 21.1251 - mae: 3.0518 - val_loss: 18.9616 - val_mae: 3.0633\n",
      "Epoch 72/100\n",
      "11/11 [==============================] - 0s 973us/step - loss: 20.8872 - mae: 3.0315 - val_loss: 18.3190 - val_mae: 3.0176\n",
      "Epoch 73/100\n",
      "11/11 [==============================] - 0s 987us/step - loss: 20.5578 - mae: 3.0183 - val_loss: 17.7669 - val_mae: 2.9862\n",
      "Epoch 74/100\n",
      "11/11 [==============================] - 0s 999us/step - loss: 20.1483 - mae: 2.9902 - val_loss: 17.7305 - val_mae: 3.0053\n",
      "Epoch 75/100\n",
      "11/11 [==============================] - 0s 992us/step - loss: 19.8731 - mae: 2.9620 - val_loss: 17.3019 - val_mae: 2.9694\n",
      "Epoch 76/100\n",
      "11/11 [==============================] - 0s 985us/step - loss: 19.5380 - mae: 2.9640 - val_loss: 16.7995 - val_mae: 2.9274\n",
      "Epoch 77/100\n",
      "11/11 [==============================] - 0s 994us/step - loss: 19.2199 - mae: 2.9331 - val_loss: 16.3303 - val_mae: 2.9029\n",
      "Epoch 78/100\n",
      "11/11 [==============================] - 0s 1ms/step - loss: 18.8891 - mae: 2.9005 - val_loss: 15.9824 - val_mae: 2.8792\n",
      "Epoch 79/100\n",
      "11/11 [==============================] - 0s 997us/step - loss: 18.6176 - mae: 2.8828 - val_loss: 15.5442 - val_mae: 2.8505\n",
      "Epoch 80/100\n",
      "11/11 [==============================] - 0s 1ms/step - loss: 18.3738 - mae: 2.8681 - val_loss: 15.3094 - val_mae: 2.8436\n",
      "Epoch 81/100\n",
      "11/11 [==============================] - 0s 1ms/step - loss: 18.1079 - mae: 2.8373 - val_loss: 14.5635 - val_mae: 2.7663\n",
      "Epoch 82/100\n",
      "11/11 [==============================] - 0s 981us/step - loss: 17.8436 - mae: 2.8297 - val_loss: 14.4460 - val_mae: 2.7739\n",
      "Epoch 83/100\n",
      "11/11 [==============================] - 0s 984us/step - loss: 17.5302 - mae: 2.8165 - val_loss: 14.5519 - val_mae: 2.8054\n",
      "Epoch 84/100\n",
      "11/11 [==============================] - 0s 1ms/step - loss: 17.3518 - mae: 2.8004 - val_loss: 13.9680 - val_mae: 2.7516\n",
      "Epoch 85/100\n",
      "11/11 [==============================] - 0s 1ms/step - loss: 17.1440 - mae: 2.7905 - val_loss: 13.7163 - val_mae: 2.7400\n",
      "Epoch 86/100\n",
      "11/11 [==============================] - 0s 952us/step - loss: 16.8275 - mae: 2.7623 - val_loss: 13.8290 - val_mae: 2.7654\n",
      "Epoch 87/100\n",
      "11/11 [==============================] - 0s 948us/step - loss: 16.7010 - mae: 2.7675 - val_loss: 13.0858 - val_mae: 2.6949\n",
      "Epoch 88/100\n",
      "11/11 [==============================] - 0s 986us/step - loss: 16.4300 - mae: 2.7390 - val_loss: 12.7272 - val_mae: 2.6758\n",
      "Epoch 89/100\n",
      "11/11 [==============================] - 0s 984us/step - loss: 16.1862 - mae: 2.7204 - val_loss: 12.6253 - val_mae: 2.6904\n",
      "Epoch 90/100\n",
      "11/11 [==============================] - 0s 953us/step - loss: 15.9987 - mae: 2.7191 - val_loss: 12.0668 - val_mae: 2.6437\n",
      "Epoch 91/100\n",
      "11/11 [==============================] - 0s 938us/step - loss: 15.7762 - mae: 2.7044 - val_loss: 11.9899 - val_mae: 2.6497\n",
      "Epoch 92/100\n",
      "11/11 [==============================] - 0s 967us/step - loss: 15.6575 - mae: 2.7056 - val_loss: 12.0148 - val_mae: 2.6557\n",
      "Epoch 93/100\n",
      "11/11 [==============================] - 0s 955us/step - loss: 15.4739 - mae: 2.6693 - val_loss: 11.7659 - val_mae: 2.6431\n",
      "Epoch 94/100\n",
      "11/11 [==============================] - 0s 986us/step - loss: 15.3086 - mae: 2.6808 - val_loss: 11.5369 - val_mae: 2.6177\n",
      "Epoch 95/100\n",
      "11/11 [==============================] - 0s 978us/step - loss: 15.1892 - mae: 2.6666 - val_loss: 11.3716 - val_mae: 2.6085\n",
      "Epoch 96/100\n",
      "11/11 [==============================] - 0s 975us/step - loss: 15.0444 - mae: 2.6366 - val_loss: 11.4617 - val_mae: 2.6127\n",
      "Epoch 97/100\n",
      "11/11 [==============================] - 0s 983us/step - loss: 14.8818 - mae: 2.6216 - val_loss: 11.7198 - val_mae: 2.6510\n",
      "Epoch 98/100\n",
      "11/11 [==============================] - 0s 968us/step - loss: 14.8689 - mae: 2.6322 - val_loss: 10.9386 - val_mae: 2.5654\n",
      "Epoch 99/100\n",
      "11/11 [==============================] - 0s 989us/step - loss: 14.6441 - mae: 2.6006 - val_loss: 10.8865 - val_mae: 2.5647\n",
      "Epoch 100/100\n",
      "11/11 [==============================] - 0s 998us/step - loss: 14.5645 - mae: 2.5977 - val_loss: 10.8011 - val_mae: 2.5702\n"
     ]
    }
   ],
   "source": [
    "history = model.fit(X_train_scaled, y_train, validation_split=0.2, epochs=100)"
   ]
  },
  {
   "cell_type": "markdown",
   "metadata": {},
   "source": [
    "* Let us plot the training and validation error convergence according to the epoch number:"
   ]
  },
  {
   "cell_type": "code",
   "execution_count": 16,
   "metadata": {
    "scrolled": true
   },
   "outputs": [
    {
     "data": {
      "image/png": "[encoded data removed]",
      "text/plain": [
       "<Figure size 432x288 with 1 Axes>"
      ]
     },
     "metadata": {
      "needs_background": "light"
     },
     "output_type": "display_data"
    }
   ],
   "source": [
    "import matplotlib.pyplot as plt\n",
    "\n",
    "training_error = history.history['mae'] # training error\n",
    "val_error = history.history['val_mae'] # validation error\n",
    "\n",
    "plt.plot(training_error)\n",
    "plt.plot(val_error)\n",
    "plt.title('training and validation error')\n",
    "plt.legend(['Training Error', 'Validation Error'], loc='upper right')\n",
    "\n",
    "plt.show()"
   ]
  },
  {
   "cell_type": "markdown",
   "metadata": {},
   "source": [
    "We started with an error of 20K per prediction, and went down to around 3K.  \n",
    "This is a very acceptable error value for a housing price."
   ]
  },
  {
   "cell_type": "markdown",
   "metadata": {},
   "source": [
    "## Evaluation on Test Data\n",
    "* Model evaluation is super easy in Keras. Check the following:"
   ]
  },
  {
   "cell_type": "code",
   "execution_count": 17,
   "metadata": {},
   "outputs": [
    {
     "name": "stdout",
     "output_type": "stream",
     "text": [
      "4/4 [==============================] - 0s 391us/step - loss: 22.6691 - mae: 3.2405\n"
     ]
    },
    {
     "data": {
      "text/plain": [
       "[22.669069290161133, 3.240532636642456]"
      ]
     },
     "execution_count": 17,
     "metadata": {},
     "output_type": "execute_result"
    }
   ],
   "source": [
    "model.evaluate(X_test_scaled, y_test)"
   ]
  },
  {
   "cell_type": "markdown",
   "metadata": {},
   "source": [
    "The output values represent the loss (Mean Squarred Error) and the metrics (Mean Absolute Error)."
   ]
  },
  {
   "cell_type": "markdown",
   "metadata": {},
   "source": [
    "## Model Prediction\n",
    "* Using the model for prediction is simpler than you expect. Have a look:"
   ]
  },
  {
   "cell_type": "code",
   "execution_count": 18,
   "metadata": {
    "scrolled": true
   },
   "outputs": [
    {
     "name": "stdout",
     "output_type": "stream",
     "text": [
      "[[16.16263 ]\n",
      " [40.133457]]\n",
      "-------------\n",
      "[15.2 42.3]\n"
     ]
    }
   ],
   "source": [
    "# we get a sample data (the first 2 inputs from the training data)\n",
    "to_predict = X_train_scaled[:2]\n",
    "#print(to_predict)\n",
    "\n",
    "# we call the predict method\n",
    "predictions = model.predict(to_predict)\n",
    "\n",
    "# print the predictions\n",
    "print(predictions)\n",
    "\n",
    "# print the real values\n",
    "print(\"-------------\")\n",
    "print(y_train[:2])"
   ]
  },
  {
   "cell_type": "markdown",
   "metadata": {},
   "source": [
    "* References  \n",
    "    - Regression with Keras (Deep Learning with Keras – Part 3)  \n",
    "    https://www.marktechpost.com/2019/06/17/regression-with-keras-deep-learning-with-keras-part-3/\n",
    "    - StandardScaler  \n",
    "    https://homeproject.tistory.com/entry/%EB%8D%B0%EC%9D%B4%ED%84%B0-%EC%8A%A4%EC%BC%80%EC%9D%BC%EB%A7%81-Data-Scaling"
   ]
  }
 ],
 "metadata": {
  "kernelspec": {
   "display_name": "Python 3",
   "language": "python",
   "name": "python3"
  },
  "language_info": {
   "codemirror_mode": {
    "name": "ipython",
    "version": 3
   },
   "file_extension": ".py",
   "mimetype": "text/x-python",
   "name": "python",
   "nbconvert_exporter": "python",
   "pygments_lexer": "ipython3",
   "version": "3.6.9"
  }
 },
 "nbformat": 4,
 "nbformat_minor": 4
}
